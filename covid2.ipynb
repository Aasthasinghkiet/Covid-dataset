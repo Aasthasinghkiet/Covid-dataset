{
 "cells": [
  {
   "cell_type": "markdown",
   "id": "f8f473e5-6079-469b-b0c1-be9188f15ef9",
   "metadata": {},
   "source": [
    "### Step1:python libraries"
   ]
  },
  {
   "cell_type": "code",
   "execution_count": 1,
   "id": "837cb88a-6444-489b-9276-d7d5435c7488",
   "metadata": {},
   "outputs": [],
   "source": [
    "import pandas as pd\n",
    "import numpy as np\n",
    "import seaborn as sns\n",
    "import matplotlib.pyplot as plt"
   ]
  },
  {
   "cell_type": "markdown",
   "id": "6fe6b36e-b4d4-459d-af17-e31301964ff7",
   "metadata": {},
   "source": [
    "### Step2:Reading dataset"
   ]
  },
  {
   "cell_type": "code",
   "execution_count": 2,
   "id": "0e07877c-1b02-4a80-813b-8de0d78c5063",
   "metadata": {},
   "outputs": [],
   "source": [
    "df=pd.read_csv(\"covid_toy.csv\")"
   ]
  },
  {
   "cell_type": "code",
   "execution_count": 3,
   "id": "2e8b8e65-ed2f-463d-a91c-219c36c3cd4f",
   "metadata": {},
   "outputs": [
    {
     "data": {
      "text/html": [
       "<div>\n",
       "<style scoped>\n",
       "    .dataframe tbody tr th:only-of-type {\n",
       "        vertical-align: middle;\n",
       "    }\n",
       "\n",
       "    .dataframe tbody tr th {\n",
       "        vertical-align: top;\n",
       "    }\n",
       "\n",
       "    .dataframe thead th {\n",
       "        text-align: right;\n",
       "    }\n",
       "</style>\n",
       "<table border=\"1\" class=\"dataframe\">\n",
       "  <thead>\n",
       "    <tr style=\"text-align: right;\">\n",
       "      <th></th>\n",
       "      <th>age</th>\n",
       "      <th>gender</th>\n",
       "      <th>fever</th>\n",
       "      <th>cough</th>\n",
       "      <th>city</th>\n",
       "      <th>has_covid</th>\n",
       "    </tr>\n",
       "  </thead>\n",
       "  <tbody>\n",
       "    <tr>\n",
       "      <th>0</th>\n",
       "      <td>60</td>\n",
       "      <td>Male</td>\n",
       "      <td>103.0</td>\n",
       "      <td>Mild</td>\n",
       "      <td>Kolkata</td>\n",
       "      <td>No</td>\n",
       "    </tr>\n",
       "    <tr>\n",
       "      <th>1</th>\n",
       "      <td>27</td>\n",
       "      <td>Male</td>\n",
       "      <td>100.0</td>\n",
       "      <td>Mild</td>\n",
       "      <td>Delhi</td>\n",
       "      <td>Yes</td>\n",
       "    </tr>\n",
       "    <tr>\n",
       "      <th>2</th>\n",
       "      <td>42</td>\n",
       "      <td>Male</td>\n",
       "      <td>101.0</td>\n",
       "      <td>Mild</td>\n",
       "      <td>Delhi</td>\n",
       "      <td>No</td>\n",
       "    </tr>\n",
       "    <tr>\n",
       "      <th>3</th>\n",
       "      <td>31</td>\n",
       "      <td>Female</td>\n",
       "      <td>98.0</td>\n",
       "      <td>Mild</td>\n",
       "      <td>Kolkata</td>\n",
       "      <td>No</td>\n",
       "    </tr>\n",
       "    <tr>\n",
       "      <th>4</th>\n",
       "      <td>65</td>\n",
       "      <td>Female</td>\n",
       "      <td>101.0</td>\n",
       "      <td>Mild</td>\n",
       "      <td>Mumbai</td>\n",
       "      <td>No</td>\n",
       "    </tr>\n",
       "  </tbody>\n",
       "</table>\n",
       "</div>"
      ],
      "text/plain": [
       "   age  gender  fever cough     city has_covid\n",
       "0   60    Male  103.0  Mild  Kolkata        No\n",
       "1   27    Male  100.0  Mild    Delhi       Yes\n",
       "2   42    Male  101.0  Mild    Delhi        No\n",
       "3   31  Female   98.0  Mild  Kolkata        No\n",
       "4   65  Female  101.0  Mild   Mumbai        No"
      ]
     },
     "execution_count": 3,
     "metadata": {},
     "output_type": "execute_result"
    }
   ],
   "source": [
    "df.head()"
   ]
  },
  {
   "cell_type": "code",
   "execution_count": 4,
   "id": "f0ff6d7a-36fa-47d7-9604-965a43fa96c5",
   "metadata": {},
   "outputs": [
    {
     "data": {
      "text/plain": [
       "Index(['age', 'gender', 'fever', 'cough', 'city', 'has_covid'], dtype='object')"
      ]
     },
     "execution_count": 4,
     "metadata": {},
     "output_type": "execute_result"
    }
   ],
   "source": [
    "df.columns\n"
   ]
  },
  {
   "cell_type": "code",
   "execution_count": 5,
   "id": "a3219656-3273-451c-a86f-e63a875ae23e",
   "metadata": {
    "scrolled": true
   },
   "outputs": [
    {
     "data": {
      "text/plain": [
       "(100, 6)"
      ]
     },
     "execution_count": 5,
     "metadata": {},
     "output_type": "execute_result"
    }
   ],
   "source": [
    "df.shape"
   ]
  },
  {
   "cell_type": "code",
   "execution_count": 6,
   "id": "cd17b5d8-8aa7-4c62-af68-5666062efc73",
   "metadata": {},
   "outputs": [
    {
     "name": "stdout",
     "output_type": "stream",
     "text": [
      "<class 'pandas.core.frame.DataFrame'>\n",
      "RangeIndex: 100 entries, 0 to 99\n",
      "Data columns (total 6 columns):\n",
      " #   Column     Non-Null Count  Dtype  \n",
      "---  ------     --------------  -----  \n",
      " 0   age        100 non-null    int64  \n",
      " 1   gender     100 non-null    object \n",
      " 2   fever      90 non-null     float64\n",
      " 3   cough      100 non-null    object \n",
      " 4   city       100 non-null    object \n",
      " 5   has_covid  100 non-null    object \n",
      "dtypes: float64(1), int64(1), object(4)\n",
      "memory usage: 4.8+ KB\n"
     ]
    }
   ],
   "source": [
    "df.info()"
   ]
  },
  {
   "cell_type": "code",
   "execution_count": 7,
   "id": "8a36de4e-3187-4fd2-a845-32fc9f9e1416",
   "metadata": {},
   "outputs": [
    {
     "data": {
      "text/plain": [
       "age           0\n",
       "gender        0\n",
       "fever        10\n",
       "cough         0\n",
       "city          0\n",
       "has_covid     0\n",
       "dtype: int64"
      ]
     },
     "execution_count": 7,
     "metadata": {},
     "output_type": "execute_result"
    }
   ],
   "source": [
    "df.isnull().sum()"
   ]
  },
  {
   "cell_type": "code",
   "execution_count": 8,
   "id": "32be984e-f35a-4450-a809-43363a973196",
   "metadata": {},
   "outputs": [
    {
     "data": {
      "text/plain": [
       "age          55\n",
       "gender        2\n",
       "fever         7\n",
       "cough         2\n",
       "city          4\n",
       "has_covid     2\n",
       "dtype: int64"
      ]
     },
     "execution_count": 8,
     "metadata": {},
     "output_type": "execute_result"
    }
   ],
   "source": [
    "df.nunique()"
   ]
  },
  {
   "cell_type": "markdown",
   "id": "26863e79-3a39-47a4-810e-c90c322e548e",
   "metadata": {},
   "source": [
    "* Gender is classify as male and female\n",
    "*  city is classify in to 4 category\n",
    "* cough is classify as mild and strong\n",
    "* has covid classify person has covid or not"
   ]
  },
  {
   "cell_type": "markdown",
   "id": "78cc46fe-f222-4db1-a022-258b85523a24",
   "metadata": {},
   "source": [
    "### Numerical and Categorical columns"
   ]
  },
  {
   "cell_type": "code",
   "execution_count": 9,
   "id": "26a47fb5-fd47-4965-b9c2-266f7ed9f2a8",
   "metadata": {},
   "outputs": [
    {
     "name": "stdout",
     "output_type": "stream",
     "text": [
      "<class 'pandas.core.frame.DataFrame'>\n",
      "RangeIndex: 100 entries, 0 to 99\n",
      "Data columns (total 6 columns):\n",
      " #   Column     Non-Null Count  Dtype  \n",
      "---  ------     --------------  -----  \n",
      " 0   age        100 non-null    int64  \n",
      " 1   gender     100 non-null    object \n",
      " 2   fever      90 non-null     float64\n",
      " 3   cough      100 non-null    object \n",
      " 4   city       100 non-null    object \n",
      " 5   has_covid  100 non-null    object \n",
      "dtypes: float64(1), int64(1), object(4)\n",
      "memory usage: 4.8+ KB\n"
     ]
    }
   ],
   "source": [
    "df.info()"
   ]
  },
  {
   "cell_type": "code",
   "execution_count": 9,
   "id": "d28a8f90-3b80-4ae9-9883-76e6fba5e693",
   "metadata": {},
   "outputs": [
    {
     "name": "stdout",
     "output_type": "stream",
     "text": [
      "Categorical Variables are  Index(['gender', 'cough', 'city', 'has_covid'], dtype='object')\n",
      "Numerical Variables are ['age', 'fever']\n"
     ]
    }
   ],
   "source": [
    "cat_cols=df.select_dtypes(include=['object']).columns\n",
    "num_cols=df.select_dtypes(include=np.number).columns.tolist()\n",
    "print(\"Categorical Variables are \",cat_cols)\n",
    "print(\"Numerical Variables are\",num_cols)"
   ]
  },
  {
   "cell_type": "markdown",
   "id": "2dce97aa-bfe4-4a27-b87b-c59427770715",
   "metadata": {},
   "source": [
    "#### EDA explortory data analysis"
   ]
  },
  {
   "cell_type": "code",
   "execution_count": 11,
   "id": "36fff11c-3492-4036-9526-909f58fdcc92",
   "metadata": {},
   "outputs": [
    {
     "data": {
      "text/html": [
       "<div>\n",
       "<style scoped>\n",
       "    .dataframe tbody tr th:only-of-type {\n",
       "        vertical-align: middle;\n",
       "    }\n",
       "\n",
       "    .dataframe tbody tr th {\n",
       "        vertical-align: top;\n",
       "    }\n",
       "\n",
       "    .dataframe thead th {\n",
       "        text-align: right;\n",
       "    }\n",
       "</style>\n",
       "<table border=\"1\" class=\"dataframe\">\n",
       "  <thead>\n",
       "    <tr style=\"text-align: right;\">\n",
       "      <th></th>\n",
       "      <th>age</th>\n",
       "      <th>gender</th>\n",
       "      <th>fever</th>\n",
       "      <th>cough</th>\n",
       "      <th>city</th>\n",
       "      <th>has_covid</th>\n",
       "    </tr>\n",
       "  </thead>\n",
       "  <tbody>\n",
       "    <tr>\n",
       "      <th>0</th>\n",
       "      <td>60</td>\n",
       "      <td>Male</td>\n",
       "      <td>103.0</td>\n",
       "      <td>Mild</td>\n",
       "      <td>Kolkata</td>\n",
       "      <td>No</td>\n",
       "    </tr>\n",
       "    <tr>\n",
       "      <th>1</th>\n",
       "      <td>27</td>\n",
       "      <td>Male</td>\n",
       "      <td>100.0</td>\n",
       "      <td>Mild</td>\n",
       "      <td>Delhi</td>\n",
       "      <td>Yes</td>\n",
       "    </tr>\n",
       "    <tr>\n",
       "      <th>2</th>\n",
       "      <td>42</td>\n",
       "      <td>Male</td>\n",
       "      <td>101.0</td>\n",
       "      <td>Mild</td>\n",
       "      <td>Delhi</td>\n",
       "      <td>No</td>\n",
       "    </tr>\n",
       "    <tr>\n",
       "      <th>3</th>\n",
       "      <td>31</td>\n",
       "      <td>Female</td>\n",
       "      <td>98.0</td>\n",
       "      <td>Mild</td>\n",
       "      <td>Kolkata</td>\n",
       "      <td>No</td>\n",
       "    </tr>\n",
       "    <tr>\n",
       "      <th>4</th>\n",
       "      <td>65</td>\n",
       "      <td>Female</td>\n",
       "      <td>101.0</td>\n",
       "      <td>Mild</td>\n",
       "      <td>Mumbai</td>\n",
       "      <td>No</td>\n",
       "    </tr>\n",
       "    <tr>\n",
       "      <th>...</th>\n",
       "      <td>...</td>\n",
       "      <td>...</td>\n",
       "      <td>...</td>\n",
       "      <td>...</td>\n",
       "      <td>...</td>\n",
       "      <td>...</td>\n",
       "    </tr>\n",
       "    <tr>\n",
       "      <th>95</th>\n",
       "      <td>12</td>\n",
       "      <td>Female</td>\n",
       "      <td>104.0</td>\n",
       "      <td>Mild</td>\n",
       "      <td>Bangalore</td>\n",
       "      <td>No</td>\n",
       "    </tr>\n",
       "    <tr>\n",
       "      <th>96</th>\n",
       "      <td>51</td>\n",
       "      <td>Female</td>\n",
       "      <td>101.0</td>\n",
       "      <td>Strong</td>\n",
       "      <td>Kolkata</td>\n",
       "      <td>Yes</td>\n",
       "    </tr>\n",
       "    <tr>\n",
       "      <th>97</th>\n",
       "      <td>20</td>\n",
       "      <td>Female</td>\n",
       "      <td>101.0</td>\n",
       "      <td>Mild</td>\n",
       "      <td>Bangalore</td>\n",
       "      <td>No</td>\n",
       "    </tr>\n",
       "    <tr>\n",
       "      <th>98</th>\n",
       "      <td>5</td>\n",
       "      <td>Female</td>\n",
       "      <td>98.0</td>\n",
       "      <td>Strong</td>\n",
       "      <td>Mumbai</td>\n",
       "      <td>No</td>\n",
       "    </tr>\n",
       "    <tr>\n",
       "      <th>99</th>\n",
       "      <td>10</td>\n",
       "      <td>Female</td>\n",
       "      <td>98.0</td>\n",
       "      <td>Strong</td>\n",
       "      <td>Kolkata</td>\n",
       "      <td>Yes</td>\n",
       "    </tr>\n",
       "  </tbody>\n",
       "</table>\n",
       "<p>100 rows × 6 columns</p>\n",
       "</div>"
      ],
      "text/plain": [
       "    age  gender  fever   cough       city has_covid\n",
       "0    60    Male  103.0    Mild    Kolkata        No\n",
       "1    27    Male  100.0    Mild      Delhi       Yes\n",
       "2    42    Male  101.0    Mild      Delhi        No\n",
       "3    31  Female   98.0    Mild    Kolkata        No\n",
       "4    65  Female  101.0    Mild     Mumbai        No\n",
       "..  ...     ...    ...     ...        ...       ...\n",
       "95   12  Female  104.0    Mild  Bangalore        No\n",
       "96   51  Female  101.0  Strong    Kolkata       Yes\n",
       "97   20  Female  101.0    Mild  Bangalore        No\n",
       "98    5  Female   98.0  Strong     Mumbai        No\n",
       "99   10  Female   98.0  Strong    Kolkata       Yes\n",
       "\n",
       "[100 rows x 6 columns]"
      ]
     },
     "execution_count": 11,
     "metadata": {},
     "output_type": "execute_result"
    }
   ],
   "source": [
    "df"
   ]
  },
  {
   "cell_type": "markdown",
   "id": "49f314d8-be10-4042-9473-5ef5c94d8716",
   "metadata": {},
   "source": [
    "### Univariate analysis"
   ]
  },
  {
   "cell_type": "markdown",
   "id": "00a2261c-2c56-488b-af58-8d1749db7294",
   "metadata": {},
   "source": [
    "#### Categorical variable can be visualised using a countplot ,Bar chart ,piechartetc.\n",
    "##### Numerical variable can be visualised by using Histogram,Box plot, Density plot"
   ]
  },
  {
   "cell_type": "code",
   "execution_count": 11,
   "id": "d8ad768a-7fa1-47ba-b94d-b2b914d0cc51",
   "metadata": {
    "scrolled": true
   },
   "outputs": [
    {
     "name": "stdout",
     "output_type": "stream",
     "text": [
      "age\n"
     ]
    },
    {
     "name": "stderr",
     "output_type": "stream",
     "text": [
      "C:\\ProgramData\\anaconda3\\Lib\\site-packages\\seaborn\\_oldcore.py:1119: FutureWarning: use_inf_as_na option is deprecated and will be removed in a future version. Convert inf values to NaN before operating instead.\n",
      "  with pd.option_context('mode.use_inf_as_na', True):\n"
     ]
    },
    {
     "data": {
      "image/png": "[encoded data removed]",
      "text/plain": [
       "<Figure size 1500x400 with 2 Axes>"
      ]
     },
     "metadata": {},
     "output_type": "display_data"
    },
    {
     "name": "stdout",
     "output_type": "stream",
     "text": [
      "fever\n"
     ]
    },
    {
     "name": "stderr",
     "output_type": "stream",
     "text": [
      "C:\\ProgramData\\anaconda3\\Lib\\site-packages\\seaborn\\_oldcore.py:1119: FutureWarning: use_inf_as_na option is deprecated and will be removed in a future version. Convert inf values to NaN before operating instead.\n",
      "  with pd.option_context('mode.use_inf_as_na', True):\n"
     ]
    },
    {
     "data": {
      "image/png": "[encoded data removed]",
      "text/plain": [
       "<Figure size 1500x400 with 2 Axes>"
      ]
     },
     "metadata": {},
     "output_type": "display_data"
    }
   ],
   "source": [
    "for col in num_cols:\n",
    "    print(col)\n",
    "    plt.figure(figsize=(15,4))\n",
    "    plt.subplot(1,2,1)\n",
    "    sns.histplot(df[col],kde=True)\n",
    "    plt.ylabel(\"Count\")\n",
    "    plt.subplot(1,2,2)\n",
    "    sns.boxplot(df[col])\n",
    "    plt.show()"
   ]
  },
  {
   "cell_type": "code",
   "execution_count": 14,
   "id": "fd70be97-2566-430b-9908-cc6647438213",
   "metadata": {},
   "outputs": [
    {
     "name": "stdout",
     "output_type": "stream",
     "text": [
      "age\n",
      "fever\n"
     ]
    },
    {
     "name": "stderr",
     "output_type": "stream",
     "text": [
      "C:\\ProgramData\\anaconda3\\Lib\\site-packages\\seaborn\\_oldcore.py:1119: FutureWarning: use_inf_as_na option is deprecated and will be removed in a future version. Convert inf values to NaN before operating instead.\n",
      "  with pd.option_context('mode.use_inf_as_na', True):\n",
      "C:\\ProgramData\\anaconda3\\Lib\\site-packages\\seaborn\\_oldcore.py:1119: FutureWarning: use_inf_as_na option is deprecated and will be removed in a future version. Convert inf values to NaN before operating instead.\n",
      "  with pd.option_context('mode.use_inf_as_na', True):\n"
     ]
    },
    {
     "data": {
      "image/png": "[encoded data removed]",
      "text/plain": [
       "<Figure size 1500x500 with 4 Axes>"
      ]
     },
     "metadata": {},
     "output_type": "display_data"
    },
    {
     "data": {
      "image/png": "[encoded data removed]",
      "text/plain": [
       "<Figure size 1500x500 with 4 Axes>"
      ]
     },
     "metadata": {},
     "output_type": "display_data"
    }
   ],
   "source": [
    "for i in num_cols:\n",
    "    \n",
    "        print(i)\n",
    "        plt.figure(figsize=(15,5))\n",
    "        \n",
    "        plt.subplot(1,4,1,)\n",
    "        sns.scatterplot(df[i])\n",
    "        # sns.histplot(df[i],kde=True)\n",
    "        plt.subplot(1,4,2)\n",
    "        sns.boxplot(df[i])\n",
    "        plt.subplot(1,4,3)\n",
    "        sns.kdeplot(x=df[i],data=df)\n",
    "        plt.subplot(1,4,4)\n",
    "        sns.violinplot(df[i])\n",
    "         \n",
    "        plt.plot"
   ]
  },
  {
   "cell_type": "code",
   "execution_count": 15,
   "id": "ee540a99-db4b-4eaa-b9de-e0db71e7414e",
   "metadata": {},
   "outputs": [
    {
     "name": "stdout",
     "output_type": "stream",
     "text": [
      "Distribution of the data in gender\n"
     ]
    },
    {
     "data": {
      "image/png": "[encoded data removed]",
      "text/plain": [
       "<Figure size 640x480 with 1 Axes>"
      ]
     },
     "metadata": {},
     "output_type": "display_data"
    },
    {
     "name": "stdout",
     "output_type": "stream",
     "text": [
      "Distribution of the data in cough\n"
     ]
    },
    {
     "data": {
      "image/png": "[encoded data removed]",
      "text/plain": [
       "<Figure size 640x480 with 1 Axes>"
      ]
     },
     "metadata": {},
     "output_type": "display_data"
    },
    {
     "name": "stdout",
     "output_type": "stream",
     "text": [
      "Distribution of the data in city\n"
     ]
    },
    {
     "data": {
      "image/png": "[encoded data removed]",
      "text/plain": [
       "<Figure size 640x480 with 1 Axes>"
      ]
     },
     "metadata": {},
     "output_type": "display_data"
    },
    {
     "name": "stdout",
     "output_type": "stream",
     "text": [
      "Distribution of the data in has_covid\n"
     ]
    },
    {
     "data": {
      "image/png": "[encoded data removed]",
      "text/plain": [
       "<Figure size 640x480 with 1 Axes>"
      ]
     },
     "metadata": {},
     "output_type": "display_data"
    }
   ],
   "source": [
    "for i in cat_cols:\n",
    "    print('Distribution of the data in',i)\n",
    "    value_counts = df[i].value_counts()\n",
    "    \n",
    "    # Plot the pie chart\n",
    "    plt.pie(value_counts, labels=value_counts.index, autopct='%1.1f%%', startangle=140)\n",
    "    # plt.title('Distribution of COVID-19 Cases'), startangle=140\n",
    "    plt.show()"
   ]
  },
  {
   "cell_type": "code",
   "execution_count": 13,
   "id": "08bda523-d635-4738-bc1c-f192a4a7351a",
   "metadata": {},
   "outputs": [
    {
     "name": "stdout",
     "output_type": "stream",
     "text": [
      "gender\n"
     ]
    },
    {
     "data": {
      "image/png": "[encoded data removed]",
      "text/plain": [
       "<Figure size 640x480 with 1 Axes>"
      ]
     },
     "metadata": {},
     "output_type": "display_data"
    },
    {
     "name": "stdout",
     "output_type": "stream",
     "text": [
      "cough\n"
     ]
    },
    {
     "data": {
      "image/png": "[encoded data removed]",
      "text/plain": [
       "<Figure size 640x480 with 1 Axes>"
      ]
     },
     "metadata": {},
     "output_type": "display_data"
    },
    {
     "name": "stdout",
     "output_type": "stream",
     "text": [
      "city\n"
     ]
    },
    {
     "data": {
      "image/png": "[encoded data removed]",
      "text/plain": [
       "<Figure size 640x480 with 1 Axes>"
      ]
     },
     "metadata": {},
     "output_type": "display_data"
    },
    {
     "name": "stdout",
     "output_type": "stream",
     "text": [
      "has_covid\n"
     ]
    },
    {
     "data": {
      "image/png": "[encoded data removed]",
      "text/plain": [
       "<Figure size 640x480 with 1 Axes>"
      ]
     },
     "metadata": {},
     "output_type": "display_data"
    }
   ],
   "source": [
    "for col in cat_cols:\n",
    "    print(col)\n",
    "    plt.bar(df[col].value_counts().index, df[col].value_counts().values)\n",
    "    plt.xlabel(col)\n",
    "    plt.ylabel(\"Count\")\n",
    "    plt.show()"
   ]
  },
  {
   "cell_type": "markdown",
   "id": "6e303b11-4fb8-4553-87c7-6f5745a44b53",
   "metadata": {},
   "source": [
    "### Obseravtion\n",
    "* most of them are female\n",
    "* kolkata has most of the covid cases\n",
    "* many of them has mild fever\n",
    "* and most of them has no covid"
   ]
  },
  {
   "cell_type": "markdown",
   "id": "da23c83d-b039-4108-8c18-052fd7ce46c5",
   "metadata": {},
   "source": [
    "#### Bivariate analysis"
   ]
  },
  {
   "cell_type": "code",
   "execution_count": 14,
   "id": "dcb49c80-5339-48f7-861b-2fadc5705b5e",
   "metadata": {},
   "outputs": [
    {
     "name": "stderr",
     "output_type": "stream",
     "text": [
      "C:\\ProgramData\\anaconda3\\Lib\\site-packages\\seaborn\\_oldcore.py:1119: FutureWarning: use_inf_as_na option is deprecated and will be removed in a future version. Convert inf values to NaN before operating instead.\n",
      "  with pd.option_context('mode.use_inf_as_na', True):\n",
      "C:\\ProgramData\\anaconda3\\Lib\\site-packages\\seaborn\\_oldcore.py:1119: FutureWarning: use_inf_as_na option is deprecated and will be removed in a future version. Convert inf values to NaN before operating instead.\n",
      "  with pd.option_context('mode.use_inf_as_na', True):\n"
     ]
    },
    {
     "data": {
      "image/png": "[encoded data removed]",
      "text/plain": [
       "<Figure size 500x500 with 6 Axes>"
      ]
     },
     "metadata": {},
     "output_type": "display_data"
    }
   ],
   "source": [
    "sns.pairplot(df)\n",
    "plt.show()"
   ]
  },
  {
   "cell_type": "code",
   "execution_count": 15,
   "id": "f2ba85bb-05fe-4257-a281-9d4de780ea53",
   "metadata": {},
   "outputs": [
    {
     "data": {
      "image/png": "[encoded data removed]",
      "text/plain": [
       "<Figure size 800x400 with 1 Axes>"
      ]
     },
     "metadata": {},
     "output_type": "display_data"
    },
    {
     "data": {
      "image/png": "[encoded data removed]",
      "text/plain": [
       "<Figure size 800x400 with 1 Axes>"
      ]
     },
     "metadata": {},
     "output_type": "display_data"
    },
    {
     "data": {
      "image/png": "[encoded data removed]",
      "text/plain": [
       "<Figure size 800x400 with 1 Axes>"
      ]
     },
     "metadata": {},
     "output_type": "display_data"
    },
    {
     "data": {
      "image/png": "[encoded data removed]",
      "text/plain": [
       "<Figure size 800x400 with 1 Axes>"
      ]
     },
     "metadata": {},
     "output_type": "display_data"
    },
    {
     "data": {
      "image/png": "[encoded data removed]",
      "text/plain": [
       "<Figure size 800x400 with 1 Axes>"
      ]
     },
     "metadata": {},
     "output_type": "display_data"
    }
   ],
   "source": [
    "for col in df.columns:\n",
    "    if col != \"has_covid\":\n",
    "        plt.figure(figsize=(8,4))\n",
    "        sns.countplot(x=col, hue=\"has_covid\", data=df)\n",
    "        plt.xlabel(col)\n",
    "        plt.ylabel(\"Count\")\n",
    "        plt.title(f\"{col} vs has_covid\")\n",
    "        plt.show()"
   ]
  },
  {
   "cell_type": "markdown",
   "id": "d502e37f-03f8-43ff-8af7-f226d3b687a6",
   "metadata": {},
   "source": [
    "### Multivariate Analysis"
   ]
  },
  {
   "cell_type": "code",
   "execution_count": 16,
   "id": "b06c5ae0-3c38-4a77-b3c1-a7067f04427e",
   "metadata": {},
   "outputs": [
    {
     "data": {
      "image/png": "[encoded data removed]",
      "text/plain": [
       "<Figure size 1200x700 with 2 Axes>"
      ]
     },
     "metadata": {},
     "output_type": "display_data"
    }
   ],
   "source": [
    "df1=df.select_dtypes(exclude=['object'])\n",
    "plt.figure(figsize=(12,7))\n",
    "sns.heatmap(df1.corr(),annot=True)\n",
    "plt.show()"
   ]
  },
  {
   "cell_type": "markdown",
   "id": "8db587ba-d8a0-4c94-bd3f-1518cdc9d522",
   "metadata": {},
   "source": [
    "### Step6: Features Engineering"
   ]
  },
  {
   "cell_type": "code",
   "execution_count": 17,
   "id": "90df7e9f-55c5-43bd-97ab-122789a1c901",
   "metadata": {},
   "outputs": [
    {
     "data": {
      "text/html": [
       "<div>\n",
       "<style scoped>\n",
       "    .dataframe tbody tr th:only-of-type {\n",
       "        vertical-align: middle;\n",
       "    }\n",
       "\n",
       "    .dataframe tbody tr th {\n",
       "        vertical-align: top;\n",
       "    }\n",
       "\n",
       "    .dataframe thead th {\n",
       "        text-align: right;\n",
       "    }\n",
       "</style>\n",
       "<table border=\"1\" class=\"dataframe\">\n",
       "  <thead>\n",
       "    <tr style=\"text-align: right;\">\n",
       "      <th></th>\n",
       "      <th>age</th>\n",
       "      <th>gender</th>\n",
       "      <th>fever</th>\n",
       "      <th>cough</th>\n",
       "      <th>city</th>\n",
       "      <th>has_covid</th>\n",
       "    </tr>\n",
       "  </thead>\n",
       "  <tbody>\n",
       "    <tr>\n",
       "      <th>0</th>\n",
       "      <td>60</td>\n",
       "      <td>Male</td>\n",
       "      <td>103.0</td>\n",
       "      <td>Mild</td>\n",
       "      <td>Kolkata</td>\n",
       "      <td>No</td>\n",
       "    </tr>\n",
       "    <tr>\n",
       "      <th>1</th>\n",
       "      <td>27</td>\n",
       "      <td>Male</td>\n",
       "      <td>100.0</td>\n",
       "      <td>Mild</td>\n",
       "      <td>Delhi</td>\n",
       "      <td>Yes</td>\n",
       "    </tr>\n",
       "    <tr>\n",
       "      <th>2</th>\n",
       "      <td>42</td>\n",
       "      <td>Male</td>\n",
       "      <td>101.0</td>\n",
       "      <td>Mild</td>\n",
       "      <td>Delhi</td>\n",
       "      <td>No</td>\n",
       "    </tr>\n",
       "    <tr>\n",
       "      <th>3</th>\n",
       "      <td>31</td>\n",
       "      <td>Female</td>\n",
       "      <td>98.0</td>\n",
       "      <td>Mild</td>\n",
       "      <td>Kolkata</td>\n",
       "      <td>No</td>\n",
       "    </tr>\n",
       "    <tr>\n",
       "      <th>4</th>\n",
       "      <td>65</td>\n",
       "      <td>Female</td>\n",
       "      <td>101.0</td>\n",
       "      <td>Mild</td>\n",
       "      <td>Mumbai</td>\n",
       "      <td>No</td>\n",
       "    </tr>\n",
       "    <tr>\n",
       "      <th>...</th>\n",
       "      <td>...</td>\n",
       "      <td>...</td>\n",
       "      <td>...</td>\n",
       "      <td>...</td>\n",
       "      <td>...</td>\n",
       "      <td>...</td>\n",
       "    </tr>\n",
       "    <tr>\n",
       "      <th>95</th>\n",
       "      <td>12</td>\n",
       "      <td>Female</td>\n",
       "      <td>104.0</td>\n",
       "      <td>Mild</td>\n",
       "      <td>Bangalore</td>\n",
       "      <td>No</td>\n",
       "    </tr>\n",
       "    <tr>\n",
       "      <th>96</th>\n",
       "      <td>51</td>\n",
       "      <td>Female</td>\n",
       "      <td>101.0</td>\n",
       "      <td>Strong</td>\n",
       "      <td>Kolkata</td>\n",
       "      <td>Yes</td>\n",
       "    </tr>\n",
       "    <tr>\n",
       "      <th>97</th>\n",
       "      <td>20</td>\n",
       "      <td>Female</td>\n",
       "      <td>101.0</td>\n",
       "      <td>Mild</td>\n",
       "      <td>Bangalore</td>\n",
       "      <td>No</td>\n",
       "    </tr>\n",
       "    <tr>\n",
       "      <th>98</th>\n",
       "      <td>5</td>\n",
       "      <td>Female</td>\n",
       "      <td>98.0</td>\n",
       "      <td>Strong</td>\n",
       "      <td>Mumbai</td>\n",
       "      <td>No</td>\n",
       "    </tr>\n",
       "    <tr>\n",
       "      <th>99</th>\n",
       "      <td>10</td>\n",
       "      <td>Female</td>\n",
       "      <td>98.0</td>\n",
       "      <td>Strong</td>\n",
       "      <td>Kolkata</td>\n",
       "      <td>Yes</td>\n",
       "    </tr>\n",
       "  </tbody>\n",
       "</table>\n",
       "<p>100 rows × 6 columns</p>\n",
       "</div>"
      ],
      "text/plain": [
       "    age  gender  fever   cough       city has_covid\n",
       "0    60    Male  103.0    Mild    Kolkata        No\n",
       "1    27    Male  100.0    Mild      Delhi       Yes\n",
       "2    42    Male  101.0    Mild      Delhi        No\n",
       "3    31  Female   98.0    Mild    Kolkata        No\n",
       "4    65  Female  101.0    Mild     Mumbai        No\n",
       "..  ...     ...    ...     ...        ...       ...\n",
       "95   12  Female  104.0    Mild  Bangalore        No\n",
       "96   51  Female  101.0  Strong    Kolkata       Yes\n",
       "97   20  Female  101.0    Mild  Bangalore        No\n",
       "98    5  Female   98.0  Strong     Mumbai        No\n",
       "99   10  Female   98.0  Strong    Kolkata       Yes\n",
       "\n",
       "[100 rows x 6 columns]"
      ]
     },
     "execution_count": 17,
     "metadata": {},
     "output_type": "execute_result"
    }
   ],
   "source": [
    "df"
   ]
  },
  {
   "cell_type": "code",
   "execution_count": 18,
   "id": "f7a43465-1e12-4022-8a9d-a15d979458d1",
   "metadata": {},
   "outputs": [
    {
     "name": "stdout",
     "output_type": "stream",
     "text": [
      "age\n"
     ]
    },
    {
     "data": {
      "image/png": "[encoded data removed]",
      "text/plain": [
       "<Figure size 640x480 with 1 Axes>"
      ]
     },
     "metadata": {},
     "output_type": "display_data"
    },
    {
     "name": "stdout",
     "output_type": "stream",
     "text": [
      "fever\n"
     ]
    },
    {
     "data": {
      "image/png": "[encoded data removed]",
      "text/plain": [
       "<Figure size 640x480 with 1 Axes>"
      ]
     },
     "metadata": {},
     "output_type": "display_data"
    }
   ],
   "source": [
    "for col in num_cols:\n",
    "    print(col)\n",
    "    sns.boxplot(df[col])\n",
    "    plt.show()"
   ]
  },
  {
   "cell_type": "markdown",
   "id": "b41fb523-87be-4b24-beb2-727f515ab55a",
   "metadata": {},
   "source": [
    "#### Data encoding"
   ]
  },
  {
   "cell_type": "code",
   "execution_count": 19,
   "id": "f2ec2e8d-e1e9-431a-957e-e0fa64e6c1b1",
   "metadata": {},
   "outputs": [
    {
     "data": {
      "text/plain": [
       "Index(['gender', 'cough', 'city', 'has_covid'], dtype='object')"
      ]
     },
     "execution_count": 19,
     "metadata": {},
     "output_type": "execute_result"
    }
   ],
   "source": [
    "cat_cols"
   ]
  },
  {
   "cell_type": "code",
   "execution_count": 20,
   "id": "d92d7103-7910-4596-9e56-91a9ddca06b4",
   "metadata": {},
   "outputs": [
    {
     "data": {
      "text/plain": [
       "pandas.core.indexes.base.Index"
      ]
     },
     "execution_count": 20,
     "metadata": {},
     "output_type": "execute_result"
    }
   ],
   "source": [
    "type(cat_cols)"
   ]
  },
  {
   "cell_type": "code",
   "execution_count": 21,
   "id": "a3f2aa49-7b9c-4a03-bf69-80c878126c3d",
   "metadata": {},
   "outputs": [
    {
     "name": "stdout",
     "output_type": "stream",
     "text": [
      "gender\n"
     ]
    },
    {
     "data": {
      "image/png": "[encoded data removed]",
      "text/plain": [
       "<Figure size 640x480 with 1 Axes>"
      ]
     },
     "metadata": {},
     "output_type": "display_data"
    },
    {
     "name": "stdout",
     "output_type": "stream",
     "text": [
      "cough\n"
     ]
    },
    {
     "data": {
      "image/png": "[encoded data removed]",
      "text/plain": [
       "<Figure size 640x480 with 1 Axes>"
      ]
     },
     "metadata": {},
     "output_type": "display_data"
    },
    {
     "name": "stdout",
     "output_type": "stream",
     "text": [
      "city\n"
     ]
    },
    {
     "data": {
      "image/png": "[encoded data removed]",
      "text/plain": [
       "<Figure size 640x480 with 1 Axes>"
      ]
     },
     "metadata": {},
     "output_type": "display_data"
    },
    {
     "name": "stdout",
     "output_type": "stream",
     "text": [
      "has_covid\n"
     ]
    },
    {
     "data": {
      "image/png": "[encoded data removed]",
      "text/plain": [
       "<Figure size 640x480 with 1 Axes>"
      ]
     },
     "metadata": {},
     "output_type": "display_data"
    }
   ],
   "source": [
    "for col in cat_cols:\n",
    "    print(col)\n",
    "    plt.bar(df[col].value_counts().index, df[col].value_counts().values)\n",
    "    plt.xlabel(col)\n",
    "    plt.ylabel(\"Count\")\n",
    "    plt.show()"
   ]
  },
  {
   "cell_type": "markdown",
   "id": "6ebeb218-f43b-4799-82b6-a179280a07c5",
   "metadata": {},
   "source": [
    "### Impute Missing Values"
   ]
  },
  {
   "cell_type": "code",
   "execution_count": 16,
   "id": "a99b3cca-f732-4850-bf79-5bf3042a9a05",
   "metadata": {},
   "outputs": [
    {
     "data": {
      "text/html": [
       "<div>\n",
       "<style scoped>\n",
       "    .dataframe tbody tr th:only-of-type {\n",
       "        vertical-align: middle;\n",
       "    }\n",
       "\n",
       "    .dataframe tbody tr th {\n",
       "        vertical-align: top;\n",
       "    }\n",
       "\n",
       "    .dataframe thead th {\n",
       "        text-align: right;\n",
       "    }\n",
       "</style>\n",
       "<table border=\"1\" class=\"dataframe\">\n",
       "  <thead>\n",
       "    <tr style=\"text-align: right;\">\n",
       "      <th></th>\n",
       "      <th>age</th>\n",
       "      <th>gender</th>\n",
       "      <th>fever</th>\n",
       "      <th>cough</th>\n",
       "      <th>city</th>\n",
       "      <th>has_covid</th>\n",
       "      <th>Imp_fever</th>\n",
       "    </tr>\n",
       "  </thead>\n",
       "  <tbody>\n",
       "    <tr>\n",
       "      <th>0</th>\n",
       "      <td>60</td>\n",
       "      <td>Male</td>\n",
       "      <td>103.0</td>\n",
       "      <td>Mild</td>\n",
       "      <td>Kolkata</td>\n",
       "      <td>No</td>\n",
       "      <td>103.0</td>\n",
       "    </tr>\n",
       "    <tr>\n",
       "      <th>1</th>\n",
       "      <td>27</td>\n",
       "      <td>Male</td>\n",
       "      <td>100.0</td>\n",
       "      <td>Mild</td>\n",
       "      <td>Delhi</td>\n",
       "      <td>Yes</td>\n",
       "      <td>100.0</td>\n",
       "    </tr>\n",
       "    <tr>\n",
       "      <th>2</th>\n",
       "      <td>42</td>\n",
       "      <td>Male</td>\n",
       "      <td>101.0</td>\n",
       "      <td>Mild</td>\n",
       "      <td>Delhi</td>\n",
       "      <td>No</td>\n",
       "      <td>101.0</td>\n",
       "    </tr>\n",
       "    <tr>\n",
       "      <th>3</th>\n",
       "      <td>31</td>\n",
       "      <td>Female</td>\n",
       "      <td>98.0</td>\n",
       "      <td>Mild</td>\n",
       "      <td>Kolkata</td>\n",
       "      <td>No</td>\n",
       "      <td>98.0</td>\n",
       "    </tr>\n",
       "    <tr>\n",
       "      <th>4</th>\n",
       "      <td>65</td>\n",
       "      <td>Female</td>\n",
       "      <td>101.0</td>\n",
       "      <td>Mild</td>\n",
       "      <td>Mumbai</td>\n",
       "      <td>No</td>\n",
       "      <td>101.0</td>\n",
       "    </tr>\n",
       "    <tr>\n",
       "      <th>...</th>\n",
       "      <td>...</td>\n",
       "      <td>...</td>\n",
       "      <td>...</td>\n",
       "      <td>...</td>\n",
       "      <td>...</td>\n",
       "      <td>...</td>\n",
       "      <td>...</td>\n",
       "    </tr>\n",
       "    <tr>\n",
       "      <th>95</th>\n",
       "      <td>12</td>\n",
       "      <td>Female</td>\n",
       "      <td>104.0</td>\n",
       "      <td>Mild</td>\n",
       "      <td>Bangalore</td>\n",
       "      <td>No</td>\n",
       "      <td>104.0</td>\n",
       "    </tr>\n",
       "    <tr>\n",
       "      <th>96</th>\n",
       "      <td>51</td>\n",
       "      <td>Female</td>\n",
       "      <td>101.0</td>\n",
       "      <td>Strong</td>\n",
       "      <td>Kolkata</td>\n",
       "      <td>Yes</td>\n",
       "      <td>101.0</td>\n",
       "    </tr>\n",
       "    <tr>\n",
       "      <th>97</th>\n",
       "      <td>20</td>\n",
       "      <td>Female</td>\n",
       "      <td>101.0</td>\n",
       "      <td>Mild</td>\n",
       "      <td>Bangalore</td>\n",
       "      <td>No</td>\n",
       "      <td>101.0</td>\n",
       "    </tr>\n",
       "    <tr>\n",
       "      <th>98</th>\n",
       "      <td>5</td>\n",
       "      <td>Female</td>\n",
       "      <td>98.0</td>\n",
       "      <td>Strong</td>\n",
       "      <td>Mumbai</td>\n",
       "      <td>No</td>\n",
       "      <td>98.0</td>\n",
       "    </tr>\n",
       "    <tr>\n",
       "      <th>99</th>\n",
       "      <td>10</td>\n",
       "      <td>Female</td>\n",
       "      <td>98.0</td>\n",
       "      <td>Strong</td>\n",
       "      <td>Kolkata</td>\n",
       "      <td>Yes</td>\n",
       "      <td>98.0</td>\n",
       "    </tr>\n",
       "  </tbody>\n",
       "</table>\n",
       "<p>100 rows × 7 columns</p>\n",
       "</div>"
      ],
      "text/plain": [
       "    age  gender  fever   cough       city has_covid  Imp_fever\n",
       "0    60    Male  103.0    Mild    Kolkata        No      103.0\n",
       "1    27    Male  100.0    Mild      Delhi       Yes      100.0\n",
       "2    42    Male  101.0    Mild      Delhi        No      101.0\n",
       "3    31  Female   98.0    Mild    Kolkata        No       98.0\n",
       "4    65  Female  101.0    Mild     Mumbai        No      101.0\n",
       "..  ...     ...    ...     ...        ...       ...        ...\n",
       "95   12  Female  104.0    Mild  Bangalore        No      104.0\n",
       "96   51  Female  101.0  Strong    Kolkata       Yes      101.0\n",
       "97   20  Female  101.0    Mild  Bangalore        No      101.0\n",
       "98    5  Female   98.0  Strong     Mumbai        No       98.0\n",
       "99   10  Female   98.0  Strong    Kolkata       Yes       98.0\n",
       "\n",
       "[100 rows x 7 columns]"
      ]
     },
     "execution_count": 16,
     "metadata": {},
     "output_type": "execute_result"
    }
   ],
   "source": [
    "mean=df.fever.mean()\n",
    "df['Imp_fever']=df['fever'].fillna(mean)\n",
    "df"
   ]
  },
  {
   "cell_type": "code",
   "execution_count": 17,
   "id": "dd19b30e-771f-4323-8e00-cfae62a78be7",
   "metadata": {},
   "outputs": [],
   "source": [
    "df.drop(['fever'],inplace=True,axis=1)"
   ]
  },
  {
   "cell_type": "code",
   "execution_count": 18,
   "id": "850cb6c9-be36-43f1-9d8b-8fc6d3d33da3",
   "metadata": {},
   "outputs": [
    {
     "data": {
      "text/html": [
       "<div>\n",
       "<style scoped>\n",
       "    .dataframe tbody tr th:only-of-type {\n",
       "        vertical-align: middle;\n",
       "    }\n",
       "\n",
       "    .dataframe tbody tr th {\n",
       "        vertical-align: top;\n",
       "    }\n",
       "\n",
       "    .dataframe thead th {\n",
       "        text-align: right;\n",
       "    }\n",
       "</style>\n",
       "<table border=\"1\" class=\"dataframe\">\n",
       "  <thead>\n",
       "    <tr style=\"text-align: right;\">\n",
       "      <th></th>\n",
       "      <th>age</th>\n",
       "      <th>gender</th>\n",
       "      <th>cough</th>\n",
       "      <th>city</th>\n",
       "      <th>has_covid</th>\n",
       "      <th>Imp_fever</th>\n",
       "    </tr>\n",
       "  </thead>\n",
       "  <tbody>\n",
       "    <tr>\n",
       "      <th>0</th>\n",
       "      <td>60</td>\n",
       "      <td>Male</td>\n",
       "      <td>Mild</td>\n",
       "      <td>Kolkata</td>\n",
       "      <td>No</td>\n",
       "      <td>103.0</td>\n",
       "    </tr>\n",
       "    <tr>\n",
       "      <th>1</th>\n",
       "      <td>27</td>\n",
       "      <td>Male</td>\n",
       "      <td>Mild</td>\n",
       "      <td>Delhi</td>\n",
       "      <td>Yes</td>\n",
       "      <td>100.0</td>\n",
       "    </tr>\n",
       "    <tr>\n",
       "      <th>2</th>\n",
       "      <td>42</td>\n",
       "      <td>Male</td>\n",
       "      <td>Mild</td>\n",
       "      <td>Delhi</td>\n",
       "      <td>No</td>\n",
       "      <td>101.0</td>\n",
       "    </tr>\n",
       "    <tr>\n",
       "      <th>3</th>\n",
       "      <td>31</td>\n",
       "      <td>Female</td>\n",
       "      <td>Mild</td>\n",
       "      <td>Kolkata</td>\n",
       "      <td>No</td>\n",
       "      <td>98.0</td>\n",
       "    </tr>\n",
       "    <tr>\n",
       "      <th>4</th>\n",
       "      <td>65</td>\n",
       "      <td>Female</td>\n",
       "      <td>Mild</td>\n",
       "      <td>Mumbai</td>\n",
       "      <td>No</td>\n",
       "      <td>101.0</td>\n",
       "    </tr>\n",
       "    <tr>\n",
       "      <th>...</th>\n",
       "      <td>...</td>\n",
       "      <td>...</td>\n",
       "      <td>...</td>\n",
       "      <td>...</td>\n",
       "      <td>...</td>\n",
       "      <td>...</td>\n",
       "    </tr>\n",
       "    <tr>\n",
       "      <th>95</th>\n",
       "      <td>12</td>\n",
       "      <td>Female</td>\n",
       "      <td>Mild</td>\n",
       "      <td>Bangalore</td>\n",
       "      <td>No</td>\n",
       "      <td>104.0</td>\n",
       "    </tr>\n",
       "    <tr>\n",
       "      <th>96</th>\n",
       "      <td>51</td>\n",
       "      <td>Female</td>\n",
       "      <td>Strong</td>\n",
       "      <td>Kolkata</td>\n",
       "      <td>Yes</td>\n",
       "      <td>101.0</td>\n",
       "    </tr>\n",
       "    <tr>\n",
       "      <th>97</th>\n",
       "      <td>20</td>\n",
       "      <td>Female</td>\n",
       "      <td>Mild</td>\n",
       "      <td>Bangalore</td>\n",
       "      <td>No</td>\n",
       "      <td>101.0</td>\n",
       "    </tr>\n",
       "    <tr>\n",
       "      <th>98</th>\n",
       "      <td>5</td>\n",
       "      <td>Female</td>\n",
       "      <td>Strong</td>\n",
       "      <td>Mumbai</td>\n",
       "      <td>No</td>\n",
       "      <td>98.0</td>\n",
       "    </tr>\n",
       "    <tr>\n",
       "      <th>99</th>\n",
       "      <td>10</td>\n",
       "      <td>Female</td>\n",
       "      <td>Strong</td>\n",
       "      <td>Kolkata</td>\n",
       "      <td>Yes</td>\n",
       "      <td>98.0</td>\n",
       "    </tr>\n",
       "  </tbody>\n",
       "</table>\n",
       "<p>100 rows × 6 columns</p>\n",
       "</div>"
      ],
      "text/plain": [
       "    age  gender   cough       city has_covid  Imp_fever\n",
       "0    60    Male    Mild    Kolkata        No      103.0\n",
       "1    27    Male    Mild      Delhi       Yes      100.0\n",
       "2    42    Male    Mild      Delhi        No      101.0\n",
       "3    31  Female    Mild    Kolkata        No       98.0\n",
       "4    65  Female    Mild     Mumbai        No      101.0\n",
       "..  ...     ...     ...        ...       ...        ...\n",
       "95   12  Female    Mild  Bangalore        No      104.0\n",
       "96   51  Female  Strong    Kolkata       Yes      101.0\n",
       "97   20  Female    Mild  Bangalore        No      101.0\n",
       "98    5  Female  Strong     Mumbai        No       98.0\n",
       "99   10  Female  Strong    Kolkata       Yes       98.0\n",
       "\n",
       "[100 rows x 6 columns]"
      ]
     },
     "execution_count": 18,
     "metadata": {},
     "output_type": "execute_result"
    }
   ],
   "source": [
    "df"
   ]
  },
  {
   "cell_type": "code",
   "execution_count": 19,
   "id": "8f4e1a92-26f4-440e-8537-658f16f6b91f",
   "metadata": {},
   "outputs": [
    {
     "data": {
      "text/plain": [
       "age          0\n",
       "gender       0\n",
       "cough        0\n",
       "city         0\n",
       "has_covid    0\n",
       "Imp_fever    0\n",
       "dtype: int64"
      ]
     },
     "execution_count": 19,
     "metadata": {},
     "output_type": "execute_result"
    }
   ],
   "source": [
    "df.isnull().sum()"
   ]
  },
  {
   "cell_type": "code",
   "execution_count": 20,
   "id": "0489fdd0-43cf-45a4-a2fd-b3922345f440",
   "metadata": {},
   "outputs": [
    {
     "data": {
      "text/html": [
       "<div>\n",
       "<style scoped>\n",
       "    .dataframe tbody tr th:only-of-type {\n",
       "        vertical-align: middle;\n",
       "    }\n",
       "\n",
       "    .dataframe tbody tr th {\n",
       "        vertical-align: top;\n",
       "    }\n",
       "\n",
       "    .dataframe thead th {\n",
       "        text-align: right;\n",
       "    }\n",
       "</style>\n",
       "<table border=\"1\" class=\"dataframe\">\n",
       "  <thead>\n",
       "    <tr style=\"text-align: right;\">\n",
       "      <th></th>\n",
       "      <th>age</th>\n",
       "      <th>gender</th>\n",
       "      <th>cough</th>\n",
       "      <th>city</th>\n",
       "      <th>has_covid</th>\n",
       "      <th>fever</th>\n",
       "    </tr>\n",
       "  </thead>\n",
       "  <tbody>\n",
       "    <tr>\n",
       "      <th>0</th>\n",
       "      <td>60</td>\n",
       "      <td>Male</td>\n",
       "      <td>Mild</td>\n",
       "      <td>Kolkata</td>\n",
       "      <td>No</td>\n",
       "      <td>103.0</td>\n",
       "    </tr>\n",
       "    <tr>\n",
       "      <th>1</th>\n",
       "      <td>27</td>\n",
       "      <td>Male</td>\n",
       "      <td>Mild</td>\n",
       "      <td>Delhi</td>\n",
       "      <td>Yes</td>\n",
       "      <td>100.0</td>\n",
       "    </tr>\n",
       "    <tr>\n",
       "      <th>2</th>\n",
       "      <td>42</td>\n",
       "      <td>Male</td>\n",
       "      <td>Mild</td>\n",
       "      <td>Delhi</td>\n",
       "      <td>No</td>\n",
       "      <td>101.0</td>\n",
       "    </tr>\n",
       "    <tr>\n",
       "      <th>3</th>\n",
       "      <td>31</td>\n",
       "      <td>Female</td>\n",
       "      <td>Mild</td>\n",
       "      <td>Kolkata</td>\n",
       "      <td>No</td>\n",
       "      <td>98.0</td>\n",
       "    </tr>\n",
       "    <tr>\n",
       "      <th>4</th>\n",
       "      <td>65</td>\n",
       "      <td>Female</td>\n",
       "      <td>Mild</td>\n",
       "      <td>Mumbai</td>\n",
       "      <td>No</td>\n",
       "      <td>101.0</td>\n",
       "    </tr>\n",
       "  </tbody>\n",
       "</table>\n",
       "</div>"
      ],
      "text/plain": [
       "   age  gender cough     city has_covid  fever\n",
       "0   60    Male  Mild  Kolkata        No  103.0\n",
       "1   27    Male  Mild    Delhi       Yes  100.0\n",
       "2   42    Male  Mild    Delhi        No  101.0\n",
       "3   31  Female  Mild  Kolkata        No   98.0\n",
       "4   65  Female  Mild   Mumbai        No  101.0"
      ]
     },
     "execution_count": 20,
     "metadata": {},
     "output_type": "execute_result"
    }
   ],
   "source": [
    "df.rename(columns={'Imp_fever':'fever'},inplace=True)\n",
    "df.head()"
   ]
  },
  {
   "cell_type": "markdown",
   "id": "49c98cce-53f9-4b14-b99c-ff0756815253",
   "metadata": {},
   "source": [
    "#### Label encoding"
   ]
  },
  {
   "cell_type": "code",
   "execution_count": 21,
   "id": "4907f0b1-a985-43d0-bf4d-6dc86e359d4a",
   "metadata": {},
   "outputs": [],
   "source": [
    "df1=df.copy()"
   ]
  },
  {
   "cell_type": "code",
   "execution_count": 22,
   "id": "ed263f8d-0d75-4e4b-bdb5-e2230d036879",
   "metadata": {},
   "outputs": [],
   "source": [
    "from sklearn.preprocessing import LabelEncoder"
   ]
  },
  {
   "cell_type": "code",
   "execution_count": 23,
   "id": "81153399-c420-4aaf-9f0a-bf0bebd281b0",
   "metadata": {},
   "outputs": [],
   "source": [
    "le=LabelEncoder()"
   ]
  },
  {
   "cell_type": "code",
   "execution_count": 25,
   "id": "1638d707-6e9f-45ef-a630-530c83008dc3",
   "metadata": {},
   "outputs": [
    {
     "name": "stdout",
     "output_type": "stream",
     "text": [
      "   gender  gender_encoded\n",
      "0    Male               1\n",
      "1    Male               1\n",
      "2    Male               1\n",
      "3  Female               0\n",
      "4  Female               0\n"
     ]
    }
   ],
   "source": [
    "# Apply label encoding to the 'gender' column\n",
    "df1['gender_encoded'] = le.fit_transform(df1['gender'])\n",
    "\n",
    "# Print the first few rows to verify the encoding\n",
    "print(df1[['gender', 'gender_encoded']].head())"
   ]
  },
  {
   "cell_type": "code",
   "execution_count": 26,
   "id": "261f1412-c65d-44c8-8dd9-6b12f931e8cc",
   "metadata": {},
   "outputs": [
    {
     "name": "stdout",
     "output_type": "stream",
     "text": [
      "  cough  cough_encoded\n",
      "0  Mild              0\n",
      "1  Mild              0\n",
      "2  Mild              0\n",
      "3  Mild              0\n",
      "4  Mild              0\n"
     ]
    }
   ],
   "source": [
    "df1['cough_encoded'] = le.fit_transform(df1['cough'])\n",
    "print(df1[['cough','cough_encoded']].head())"
   ]
  },
  {
   "cell_type": "code",
   "execution_count": 27,
   "id": "db1e1f13-a84f-4090-9e0b-c3bb6fac4203",
   "metadata": {},
   "outputs": [
    {
     "name": "stdout",
     "output_type": "stream",
     "text": [
      "  has_covid  has_covid_encoded\n",
      "0        No                  0\n",
      "1       Yes                  1\n",
      "2        No                  0\n",
      "3        No                  0\n",
      "4        No                  0\n"
     ]
    }
   ],
   "source": [
    "\n",
    "df1['has_covid_encoded'] = le.fit_transform(df1['has_covid'])\n",
    "print(df1[['has_covid','has_covid_encoded']].head())"
   ]
  },
  {
   "cell_type": "code",
   "execution_count": 28,
   "id": "eb677c48-51bb-4ddd-91d0-9c9234f3e768",
   "metadata": {},
   "outputs": [
    {
     "name": "stdout",
     "output_type": "stream",
     "text": [
      "      city  city_encoded\n",
      "0  Kolkata             2\n",
      "1    Delhi             1\n",
      "2    Delhi             1\n",
      "3  Kolkata             2\n",
      "4   Mumbai             3\n"
     ]
    }
   ],
   "source": [
    "\n",
    "df1['city_encoded'] = le.fit_transform(df1['city'])\n",
    "print(df1[['city','city_encoded']].head())"
   ]
  },
  {
   "cell_type": "code",
   "execution_count": 29,
   "id": "974d8890-3020-4f34-a8de-9976312867ce",
   "metadata": {},
   "outputs": [
    {
     "data": {
      "image/png": "[encoded data removed]",
      "text/plain": [
       "<Figure size 640x480 with 1 Axes>"
      ]
     },
     "metadata": {},
     "output_type": "display_data"
    }
   ],
   "source": [
    "sns.countplot(x='gender_encoded', data=df1)\n",
    "plt.title('Distribution of gender')\n",
    "plt.show()"
   ]
  },
  {
   "cell_type": "code",
   "execution_count": 30,
   "id": "3c262432-6d74-4b32-a221-ef7ad8cc2846",
   "metadata": {},
   "outputs": [
    {
     "data": {
      "image/png": "[encoded data removed]",
      "text/plain": [
       "<Figure size 640x480 with 1 Axes>"
      ]
     },
     "metadata": {},
     "output_type": "display_data"
    }
   ],
   "source": [
    "sns.countplot(x='cough_encoded', data=df1)\n",
    "plt.title('Distribution of cough')\n",
    "plt.show()"
   ]
  },
  {
   "cell_type": "code",
   "execution_count": 31,
   "id": "d4ea0214-0e4b-4040-afd8-354da636e439",
   "metadata": {},
   "outputs": [
    {
     "data": {
      "image/png": "[encoded data removed]",
      "text/plain": [
       "<Figure size 640x480 with 1 Axes>"
      ]
     },
     "metadata": {},
     "output_type": "display_data"
    }
   ],
   "source": [
    "sns.countplot(x='has_covid',data=df1)\n",
    "plt.title('Distribution of cough')\n",
    "plt.show()"
   ]
  },
  {
   "cell_type": "code",
   "execution_count": 32,
   "id": "884a1cdc-3f0b-4b07-b64c-2b4a59b2e7e9",
   "metadata": {},
   "outputs": [
    {
     "data": {
      "image/png": "[encoded data removed]",
      "text/plain": [
       "<Figure size 640x480 with 1 Axes>"
      ]
     },
     "metadata": {},
     "output_type": "display_data"
    }
   ],
   "source": [
    "sns.countplot(x='city',data=df1)\n",
    "plt.title('Distribution of city')\n",
    "plt.show()"
   ]
  },
  {
   "cell_type": "markdown",
   "id": "60bfd55f-a73f-4169-ac11-2eda6343d0c0",
   "metadata": {},
   "source": [
    "#### Observation\n",
    "* here we uses\n",
    "* in gender 1 for male and 0 for female.\n",
    "* in cough mild=1 and strong=0.\n",
    "* in has_covid No=0 and Yes=1."
   ]
  },
  {
   "cell_type": "code",
   "execution_count": 33,
   "id": "e6d625a5-a199-48c0-b137-23d0ef941648",
   "metadata": {
    "scrolled": true
   },
   "outputs": [
    {
     "data": {
      "text/html": [
       "<div>\n",
       "<style scoped>\n",
       "    .dataframe tbody tr th:only-of-type {\n",
       "        vertical-align: middle;\n",
       "    }\n",
       "\n",
       "    .dataframe tbody tr th {\n",
       "        vertical-align: top;\n",
       "    }\n",
       "\n",
       "    .dataframe thead th {\n",
       "        text-align: right;\n",
       "    }\n",
       "</style>\n",
       "<table border=\"1\" class=\"dataframe\">\n",
       "  <thead>\n",
       "    <tr style=\"text-align: right;\">\n",
       "      <th></th>\n",
       "      <th>age</th>\n",
       "      <th>gender</th>\n",
       "      <th>cough</th>\n",
       "      <th>city</th>\n",
       "      <th>has_covid</th>\n",
       "      <th>fever</th>\n",
       "      <th>gender_encoded</th>\n",
       "      <th>cough_encoded</th>\n",
       "      <th>has_covid_encoded</th>\n",
       "      <th>city_encoded</th>\n",
       "    </tr>\n",
       "  </thead>\n",
       "  <tbody>\n",
       "    <tr>\n",
       "      <th>0</th>\n",
       "      <td>60</td>\n",
       "      <td>Male</td>\n",
       "      <td>Mild</td>\n",
       "      <td>Kolkata</td>\n",
       "      <td>No</td>\n",
       "      <td>103.0</td>\n",
       "      <td>1</td>\n",
       "      <td>0</td>\n",
       "      <td>0</td>\n",
       "      <td>2</td>\n",
       "    </tr>\n",
       "    <tr>\n",
       "      <th>1</th>\n",
       "      <td>27</td>\n",
       "      <td>Male</td>\n",
       "      <td>Mild</td>\n",
       "      <td>Delhi</td>\n",
       "      <td>Yes</td>\n",
       "      <td>100.0</td>\n",
       "      <td>1</td>\n",
       "      <td>0</td>\n",
       "      <td>1</td>\n",
       "      <td>1</td>\n",
       "    </tr>\n",
       "    <tr>\n",
       "      <th>2</th>\n",
       "      <td>42</td>\n",
       "      <td>Male</td>\n",
       "      <td>Mild</td>\n",
       "      <td>Delhi</td>\n",
       "      <td>No</td>\n",
       "      <td>101.0</td>\n",
       "      <td>1</td>\n",
       "      <td>0</td>\n",
       "      <td>0</td>\n",
       "      <td>1</td>\n",
       "    </tr>\n",
       "    <tr>\n",
       "      <th>3</th>\n",
       "      <td>31</td>\n",
       "      <td>Female</td>\n",
       "      <td>Mild</td>\n",
       "      <td>Kolkata</td>\n",
       "      <td>No</td>\n",
       "      <td>98.0</td>\n",
       "      <td>0</td>\n",
       "      <td>0</td>\n",
       "      <td>0</td>\n",
       "      <td>2</td>\n",
       "    </tr>\n",
       "    <tr>\n",
       "      <th>4</th>\n",
       "      <td>65</td>\n",
       "      <td>Female</td>\n",
       "      <td>Mild</td>\n",
       "      <td>Mumbai</td>\n",
       "      <td>No</td>\n",
       "      <td>101.0</td>\n",
       "      <td>0</td>\n",
       "      <td>0</td>\n",
       "      <td>0</td>\n",
       "      <td>3</td>\n",
       "    </tr>\n",
       "  </tbody>\n",
       "</table>\n",
       "</div>"
      ],
      "text/plain": [
       "   age  gender cough     city has_covid  fever  gender_encoded  cough_encoded  \\\n",
       "0   60    Male  Mild  Kolkata        No  103.0               1              0   \n",
       "1   27    Male  Mild    Delhi       Yes  100.0               1              0   \n",
       "2   42    Male  Mild    Delhi        No  101.0               1              0   \n",
       "3   31  Female  Mild  Kolkata        No   98.0               0              0   \n",
       "4   65  Female  Mild   Mumbai        No  101.0               0              0   \n",
       "\n",
       "   has_covid_encoded  city_encoded  \n",
       "0                  0             2  \n",
       "1                  1             1  \n",
       "2                  0             1  \n",
       "3                  0             2  \n",
       "4                  0             3  "
      ]
     },
     "execution_count": 33,
     "metadata": {},
     "output_type": "execute_result"
    }
   ],
   "source": [
    "df1.head()"
   ]
  },
  {
   "cell_type": "code",
   "execution_count": 34,
   "id": "4d5beb2e-6462-4cc3-a2f5-49c2576c4846",
   "metadata": {},
   "outputs": [],
   "source": [
    "df1.drop(['gender','cough','has_covid','city'],axis=1,inplace=True)"
   ]
  },
  {
   "cell_type": "code",
   "execution_count": 35,
   "id": "56779c1c-b3f7-455d-8d77-919ea272ff31",
   "metadata": {},
   "outputs": [],
   "source": [
    "df=df1"
   ]
  },
  {
   "cell_type": "code",
   "execution_count": 36,
   "id": "f42c7592-0bdd-4f60-81af-897e244d9204",
   "metadata": {},
   "outputs": [
    {
     "data": {
      "text/html": [
       "<div>\n",
       "<style scoped>\n",
       "    .dataframe tbody tr th:only-of-type {\n",
       "        vertical-align: middle;\n",
       "    }\n",
       "\n",
       "    .dataframe tbody tr th {\n",
       "        vertical-align: top;\n",
       "    }\n",
       "\n",
       "    .dataframe thead th {\n",
       "        text-align: right;\n",
       "    }\n",
       "</style>\n",
       "<table border=\"1\" class=\"dataframe\">\n",
       "  <thead>\n",
       "    <tr style=\"text-align: right;\">\n",
       "      <th></th>\n",
       "      <th>age</th>\n",
       "      <th>fever</th>\n",
       "      <th>gender_encoded</th>\n",
       "      <th>cough_encoded</th>\n",
       "      <th>has_covid_encoded</th>\n",
       "      <th>city_encoded</th>\n",
       "    </tr>\n",
       "  </thead>\n",
       "  <tbody>\n",
       "    <tr>\n",
       "      <th>0</th>\n",
       "      <td>60</td>\n",
       "      <td>103.0</td>\n",
       "      <td>1</td>\n",
       "      <td>0</td>\n",
       "      <td>0</td>\n",
       "      <td>2</td>\n",
       "    </tr>\n",
       "    <tr>\n",
       "      <th>1</th>\n",
       "      <td>27</td>\n",
       "      <td>100.0</td>\n",
       "      <td>1</td>\n",
       "      <td>0</td>\n",
       "      <td>1</td>\n",
       "      <td>1</td>\n",
       "    </tr>\n",
       "    <tr>\n",
       "      <th>2</th>\n",
       "      <td>42</td>\n",
       "      <td>101.0</td>\n",
       "      <td>1</td>\n",
       "      <td>0</td>\n",
       "      <td>0</td>\n",
       "      <td>1</td>\n",
       "    </tr>\n",
       "    <tr>\n",
       "      <th>3</th>\n",
       "      <td>31</td>\n",
       "      <td>98.0</td>\n",
       "      <td>0</td>\n",
       "      <td>0</td>\n",
       "      <td>0</td>\n",
       "      <td>2</td>\n",
       "    </tr>\n",
       "    <tr>\n",
       "      <th>4</th>\n",
       "      <td>65</td>\n",
       "      <td>101.0</td>\n",
       "      <td>0</td>\n",
       "      <td>0</td>\n",
       "      <td>0</td>\n",
       "      <td>3</td>\n",
       "    </tr>\n",
       "    <tr>\n",
       "      <th>...</th>\n",
       "      <td>...</td>\n",
       "      <td>...</td>\n",
       "      <td>...</td>\n",
       "      <td>...</td>\n",
       "      <td>...</td>\n",
       "      <td>...</td>\n",
       "    </tr>\n",
       "    <tr>\n",
       "      <th>95</th>\n",
       "      <td>12</td>\n",
       "      <td>104.0</td>\n",
       "      <td>0</td>\n",
       "      <td>0</td>\n",
       "      <td>0</td>\n",
       "      <td>0</td>\n",
       "    </tr>\n",
       "    <tr>\n",
       "      <th>96</th>\n",
       "      <td>51</td>\n",
       "      <td>101.0</td>\n",
       "      <td>0</td>\n",
       "      <td>1</td>\n",
       "      <td>1</td>\n",
       "      <td>2</td>\n",
       "    </tr>\n",
       "    <tr>\n",
       "      <th>97</th>\n",
       "      <td>20</td>\n",
       "      <td>101.0</td>\n",
       "      <td>0</td>\n",
       "      <td>0</td>\n",
       "      <td>0</td>\n",
       "      <td>0</td>\n",
       "    </tr>\n",
       "    <tr>\n",
       "      <th>98</th>\n",
       "      <td>5</td>\n",
       "      <td>98.0</td>\n",
       "      <td>0</td>\n",
       "      <td>1</td>\n",
       "      <td>0</td>\n",
       "      <td>3</td>\n",
       "    </tr>\n",
       "    <tr>\n",
       "      <th>99</th>\n",
       "      <td>10</td>\n",
       "      <td>98.0</td>\n",
       "      <td>0</td>\n",
       "      <td>1</td>\n",
       "      <td>1</td>\n",
       "      <td>2</td>\n",
       "    </tr>\n",
       "  </tbody>\n",
       "</table>\n",
       "<p>100 rows × 6 columns</p>\n",
       "</div>"
      ],
      "text/plain": [
       "    age  fever  gender_encoded  cough_encoded  has_covid_encoded  city_encoded\n",
       "0    60  103.0               1              0                  0             2\n",
       "1    27  100.0               1              0                  1             1\n",
       "2    42  101.0               1              0                  0             1\n",
       "3    31   98.0               0              0                  0             2\n",
       "4    65  101.0               0              0                  0             3\n",
       "..  ...    ...             ...            ...                ...           ...\n",
       "95   12  104.0               0              0                  0             0\n",
       "96   51  101.0               0              1                  1             2\n",
       "97   20  101.0               0              0                  0             0\n",
       "98    5   98.0               0              1                  0             3\n",
       "99   10   98.0               0              1                  1             2\n",
       "\n",
       "[100 rows x 6 columns]"
      ]
     },
     "execution_count": 36,
     "metadata": {},
     "output_type": "execute_result"
    }
   ],
   "source": [
    "df"
   ]
  },
  {
   "cell_type": "code",
   "execution_count": 37,
   "id": "25d97300-389b-49d8-b8ed-40dd183528c0",
   "metadata": {},
   "outputs": [],
   "source": []
  },
  {
   "cell_type": "code",
   "execution_count": 49,
   "id": "29f5aa13-b018-4364-9d55-d2576a08d18e",
   "metadata": {},
   "outputs": [],
   "source": [
    "\n",
    "#df.rename(columns={'gender':'gender_encoded','cough':'cough_encoded','city':'city_encoded','has_covid':'has_covid_encoded'},inplace=True)\n",
    "df.rename(columns={\n",
    "    'gender': 'gender_encoded',\n",
    "    'cough': 'cough_encoded',\n",
    "    'city': 'city_encoded',\n",
    "    'has_covid': 'has_covid_encoded'\n",
    "}, inplace=True)\n"
   ]
  },
  {
   "cell_type": "code",
   "execution_count": 50,
   "id": "3e6e6cc3-8bf2-4200-a37a-0a0fcada4b97",
   "metadata": {},
   "outputs": [
    {
     "data": {
      "text/html": [
       "<div>\n",
       "<style scoped>\n",
       "    .dataframe tbody tr th:only-of-type {\n",
       "        vertical-align: middle;\n",
       "    }\n",
       "\n",
       "    .dataframe tbody tr th {\n",
       "        vertical-align: top;\n",
       "    }\n",
       "\n",
       "    .dataframe thead th {\n",
       "        text-align: right;\n",
       "    }\n",
       "</style>\n",
       "<table border=\"1\" class=\"dataframe\">\n",
       "  <thead>\n",
       "    <tr style=\"text-align: right;\">\n",
       "      <th></th>\n",
       "      <th>age</th>\n",
       "      <th>fever</th>\n",
       "      <th>gender_encoded</th>\n",
       "      <th>cough_encoded</th>\n",
       "      <th>has_covid_encoded</th>\n",
       "      <th>city_encoded</th>\n",
       "    </tr>\n",
       "  </thead>\n",
       "  <tbody>\n",
       "    <tr>\n",
       "      <th>0</th>\n",
       "      <td>60</td>\n",
       "      <td>103.0</td>\n",
       "      <td>1</td>\n",
       "      <td>0</td>\n",
       "      <td>0</td>\n",
       "      <td>2</td>\n",
       "    </tr>\n",
       "    <tr>\n",
       "      <th>1</th>\n",
       "      <td>27</td>\n",
       "      <td>100.0</td>\n",
       "      <td>1</td>\n",
       "      <td>0</td>\n",
       "      <td>1</td>\n",
       "      <td>1</td>\n",
       "    </tr>\n",
       "    <tr>\n",
       "      <th>2</th>\n",
       "      <td>42</td>\n",
       "      <td>101.0</td>\n",
       "      <td>1</td>\n",
       "      <td>0</td>\n",
       "      <td>0</td>\n",
       "      <td>1</td>\n",
       "    </tr>\n",
       "    <tr>\n",
       "      <th>3</th>\n",
       "      <td>31</td>\n",
       "      <td>98.0</td>\n",
       "      <td>0</td>\n",
       "      <td>0</td>\n",
       "      <td>0</td>\n",
       "      <td>2</td>\n",
       "    </tr>\n",
       "    <tr>\n",
       "      <th>4</th>\n",
       "      <td>65</td>\n",
       "      <td>101.0</td>\n",
       "      <td>0</td>\n",
       "      <td>0</td>\n",
       "      <td>0</td>\n",
       "      <td>3</td>\n",
       "    </tr>\n",
       "    <tr>\n",
       "      <th>...</th>\n",
       "      <td>...</td>\n",
       "      <td>...</td>\n",
       "      <td>...</td>\n",
       "      <td>...</td>\n",
       "      <td>...</td>\n",
       "      <td>...</td>\n",
       "    </tr>\n",
       "    <tr>\n",
       "      <th>95</th>\n",
       "      <td>12</td>\n",
       "      <td>104.0</td>\n",
       "      <td>0</td>\n",
       "      <td>0</td>\n",
       "      <td>0</td>\n",
       "      <td>0</td>\n",
       "    </tr>\n",
       "    <tr>\n",
       "      <th>96</th>\n",
       "      <td>51</td>\n",
       "      <td>101.0</td>\n",
       "      <td>0</td>\n",
       "      <td>1</td>\n",
       "      <td>1</td>\n",
       "      <td>2</td>\n",
       "    </tr>\n",
       "    <tr>\n",
       "      <th>97</th>\n",
       "      <td>20</td>\n",
       "      <td>101.0</td>\n",
       "      <td>0</td>\n",
       "      <td>0</td>\n",
       "      <td>0</td>\n",
       "      <td>0</td>\n",
       "    </tr>\n",
       "    <tr>\n",
       "      <th>98</th>\n",
       "      <td>5</td>\n",
       "      <td>98.0</td>\n",
       "      <td>0</td>\n",
       "      <td>1</td>\n",
       "      <td>0</td>\n",
       "      <td>3</td>\n",
       "    </tr>\n",
       "    <tr>\n",
       "      <th>99</th>\n",
       "      <td>10</td>\n",
       "      <td>98.0</td>\n",
       "      <td>0</td>\n",
       "      <td>1</td>\n",
       "      <td>1</td>\n",
       "      <td>2</td>\n",
       "    </tr>\n",
       "  </tbody>\n",
       "</table>\n",
       "<p>100 rows × 6 columns</p>\n",
       "</div>"
      ],
      "text/plain": [
       "    age  fever  gender_encoded  cough_encoded  has_covid_encoded  city_encoded\n",
       "0    60  103.0               1              0                  0             2\n",
       "1    27  100.0               1              0                  1             1\n",
       "2    42  101.0               1              0                  0             1\n",
       "3    31   98.0               0              0                  0             2\n",
       "4    65  101.0               0              0                  0             3\n",
       "..  ...    ...             ...            ...                ...           ...\n",
       "95   12  104.0               0              0                  0             0\n",
       "96   51  101.0               0              1                  1             2\n",
       "97   20  101.0               0              0                  0             0\n",
       "98    5   98.0               0              1                  0             3\n",
       "99   10   98.0               0              1                  1             2\n",
       "\n",
       "[100 rows x 6 columns]"
      ]
     },
     "execution_count": 50,
     "metadata": {},
     "output_type": "execute_result"
    }
   ],
   "source": [
    "df"
   ]
  },
  {
   "cell_type": "code",
   "execution_count": 54,
   "id": "60083efa-c50d-44e8-bade-39e7b09061c3",
   "metadata": {},
   "outputs": [],
   "source": [
    "y=df['has_covid_encoded']\n",
    "x=df.drop([\"has_covid_encoded\"],axis=1)"
   ]
  },
  {
   "cell_type": "code",
   "execution_count": 55,
   "id": "12d4ab2b-efbd-44ed-b2fc-47cb9e025a5f",
   "metadata": {},
   "outputs": [],
   "source": [
    "from sklearn.model_selection import train_test_split"
   ]
  },
  {
   "cell_type": "code",
   "execution_count": 57,
   "id": "0e1fa261-4f7a-4d51-9317-778e6523e36d",
   "metadata": {},
   "outputs": [],
   "source": [
    "x_train,x_test,y_train,y_test=train_test_split(x,y,test_size=0.2,random_state=42)"
   ]
  },
  {
   "cell_type": "code",
   "execution_count": 58,
   "id": "1bcbaced-5830-41c5-a220-4407c19c5f03",
   "metadata": {},
   "outputs": [
    {
     "data": {
      "text/html": [
       "<div>\n",
       "<style scoped>\n",
       "    .dataframe tbody tr th:only-of-type {\n",
       "        vertical-align: middle;\n",
       "    }\n",
       "\n",
       "    .dataframe tbody tr th {\n",
       "        vertical-align: top;\n",
       "    }\n",
       "\n",
       "    .dataframe thead th {\n",
       "        text-align: right;\n",
       "    }\n",
       "</style>\n",
       "<table border=\"1\" class=\"dataframe\">\n",
       "  <thead>\n",
       "    <tr style=\"text-align: right;\">\n",
       "      <th></th>\n",
       "      <th>age</th>\n",
       "      <th>fever</th>\n",
       "      <th>gender_encoded</th>\n",
       "      <th>cough_encoded</th>\n",
       "      <th>city_encoded</th>\n",
       "    </tr>\n",
       "  </thead>\n",
       "  <tbody>\n",
       "    <tr>\n",
       "      <th>55</th>\n",
       "      <td>81</td>\n",
       "      <td>101.0</td>\n",
       "      <td>0</td>\n",
       "      <td>0</td>\n",
       "      <td>3</td>\n",
       "    </tr>\n",
       "    <tr>\n",
       "      <th>88</th>\n",
       "      <td>5</td>\n",
       "      <td>100.0</td>\n",
       "      <td>0</td>\n",
       "      <td>0</td>\n",
       "      <td>2</td>\n",
       "    </tr>\n",
       "    <tr>\n",
       "      <th>26</th>\n",
       "      <td>19</td>\n",
       "      <td>100.0</td>\n",
       "      <td>0</td>\n",
       "      <td>0</td>\n",
       "      <td>2</td>\n",
       "    </tr>\n",
       "    <tr>\n",
       "      <th>42</th>\n",
       "      <td>27</td>\n",
       "      <td>100.0</td>\n",
       "      <td>1</td>\n",
       "      <td>0</td>\n",
       "      <td>1</td>\n",
       "    </tr>\n",
       "    <tr>\n",
       "      <th>69</th>\n",
       "      <td>73</td>\n",
       "      <td>103.0</td>\n",
       "      <td>0</td>\n",
       "      <td>0</td>\n",
       "      <td>1</td>\n",
       "    </tr>\n",
       "    <tr>\n",
       "      <th>...</th>\n",
       "      <td>...</td>\n",
       "      <td>...</td>\n",
       "      <td>...</td>\n",
       "      <td>...</td>\n",
       "      <td>...</td>\n",
       "    </tr>\n",
       "    <tr>\n",
       "      <th>60</th>\n",
       "      <td>24</td>\n",
       "      <td>102.0</td>\n",
       "      <td>0</td>\n",
       "      <td>1</td>\n",
       "      <td>0</td>\n",
       "    </tr>\n",
       "    <tr>\n",
       "      <th>71</th>\n",
       "      <td>75</td>\n",
       "      <td>104.0</td>\n",
       "      <td>0</td>\n",
       "      <td>1</td>\n",
       "      <td>1</td>\n",
       "    </tr>\n",
       "    <tr>\n",
       "      <th>14</th>\n",
       "      <td>51</td>\n",
       "      <td>104.0</td>\n",
       "      <td>1</td>\n",
       "      <td>0</td>\n",
       "      <td>0</td>\n",
       "    </tr>\n",
       "    <tr>\n",
       "      <th>92</th>\n",
       "      <td>82</td>\n",
       "      <td>102.0</td>\n",
       "      <td>0</td>\n",
       "      <td>1</td>\n",
       "      <td>2</td>\n",
       "    </tr>\n",
       "    <tr>\n",
       "      <th>51</th>\n",
       "      <td>11</td>\n",
       "      <td>100.0</td>\n",
       "      <td>0</td>\n",
       "      <td>1</td>\n",
       "      <td>2</td>\n",
       "    </tr>\n",
       "  </tbody>\n",
       "</table>\n",
       "<p>80 rows × 5 columns</p>\n",
       "</div>"
      ],
      "text/plain": [
       "    age  fever  gender_encoded  cough_encoded  city_encoded\n",
       "55   81  101.0               0              0             3\n",
       "88    5  100.0               0              0             2\n",
       "26   19  100.0               0              0             2\n",
       "42   27  100.0               1              0             1\n",
       "69   73  103.0               0              0             1\n",
       "..  ...    ...             ...            ...           ...\n",
       "60   24  102.0               0              1             0\n",
       "71   75  104.0               0              1             1\n",
       "14   51  104.0               1              0             0\n",
       "92   82  102.0               0              1             2\n",
       "51   11  100.0               0              1             2\n",
       "\n",
       "[80 rows x 5 columns]"
      ]
     },
     "execution_count": 58,
     "metadata": {},
     "output_type": "execute_result"
    }
   ],
   "source": [
    "x_train\n"
   ]
  },
  {
   "cell_type": "code",
   "execution_count": 63,
   "id": "e14e0a31-9359-4b6c-8b30-5bba6e3f9bc9",
   "metadata": {},
   "outputs": [],
   "source": [
    "from sklearn.linear_model import LogisticRegression"
   ]
  },
  {
   "cell_type": "raw",
   "id": "5883db77-c284-40fc-8eea-da80d496d67b",
   "metadata": {
    "scrolled": true
   },
   "source": [
    "\n",
    "\n"
   ]
  },
  {
   "cell_type": "code",
   "execution_count": 69,
   "id": "e846f35d-9391-47d4-b42c-f9e892a03cae",
   "metadata": {},
   "outputs": [],
   "source": [
    "LR=LogisticRegression()"
   ]
  },
  {
   "cell_type": "code",
   "execution_count": 70,
   "id": "9aafde78-5fcd-4e01-8e98-a57200f77b87",
   "metadata": {},
   "outputs": [
    {
     "data": {
      "text/html": [
       "<style>#sk-container-id-1 {\n",
       "  /* Definition of color scheme common for light and dark mode */\n",
       "  --sklearn-color-text: black;\n",
       "  --sklearn-color-line: gray;\n",
       "  /* Definition of color scheme for unfitted estimators */\n",
       "  --sklearn-color-unfitted-level-0: #fff5e6;\n",
       "  --sklearn-color-unfitted-level-1: #f6e4d2;\n",
       "  --sklearn-color-unfitted-level-2: #ffe0b3;\n",
       "  --sklearn-color-unfitted-level-3: chocolate;\n",
       "  /* Definition of color scheme for fitted estimators */\n",
       "  --sklearn-color-fitted-level-0: #f0f8ff;\n",
       "  --sklearn-color-fitted-level-1: #d4ebff;\n",
       "  --sklearn-color-fitted-level-2: #b3dbfd;\n",
       "  --sklearn-color-fitted-level-3: cornflowerblue;\n",
       "\n",
       "  /* Specific color for light theme */\n",
       "  --sklearn-color-text-on-default-background: var(--sg-text-color, var(--theme-code-foreground, var(--jp-content-font-color1, black)));\n",
       "  --sklearn-color-background: var(--sg-background-color, var(--theme-background, var(--jp-layout-color0, white)));\n",
       "  --sklearn-color-border-box: var(--sg-text-color, var(--theme-code-foreground, var(--jp-content-font-color1, black)));\n",
       "  --sklearn-color-icon: #696969;\n",
       "\n",
       "  @media (prefers-color-scheme: dark) {\n",
       "    /* Redefinition of color scheme for dark theme */\n",
       "    --sklearn-color-text-on-default-background: var(--sg-text-color, var(--theme-code-foreground, var(--jp-content-font-color1, white)));\n",
       "    --sklearn-color-background: var(--sg-background-color, var(--theme-background, var(--jp-layout-color0, #111)));\n",
       "    --sklearn-color-border-box: var(--sg-text-color, var(--theme-code-foreground, var(--jp-content-font-color1, white)));\n",
       "    --sklearn-color-icon: #878787;\n",
       "  }\n",
       "}\n",
       "\n",
       "#sk-container-id-1 {\n",
       "  color: var(--sklearn-color-text);\n",
       "}\n",
       "\n",
       "#sk-container-id-1 pre {\n",
       "  padding: 0;\n",
       "}\n",
       "\n",
       "#sk-container-id-1 input.sk-hidden--visually {\n",
       "  border: 0;\n",
       "  clip: rect(1px 1px 1px 1px);\n",
       "  clip: rect(1px, 1px, 1px, 1px);\n",
       "  height: 1px;\n",
       "  margin: -1px;\n",
       "  overflow: hidden;\n",
       "  padding: 0;\n",
       "  position: absolute;\n",
       "  width: 1px;\n",
       "}\n",
       "\n",
       "#sk-container-id-1 div.sk-dashed-wrapped {\n",
       "  border: 1px dashed var(--sklearn-color-line);\n",
       "  margin: 0 0.4em 0.5em 0.4em;\n",
       "  box-sizing: border-box;\n",
       "  padding-bottom: 0.4em;\n",
       "  background-color: var(--sklearn-color-background);\n",
       "}\n",
       "\n",
       "#sk-container-id-1 div.sk-container {\n",
       "  /* jupyter's `normalize.less` sets `[hidden] { display: none; }`\n",
       "     but bootstrap.min.css set `[hidden] { display: none !important; }`\n",
       "     so we also need the `!important` here to be able to override the\n",
       "     default hidden behavior on the sphinx rendered scikit-learn.org.\n",
       "     See: https://github.com/scikit-learn/scikit-learn/issues/21755 */\n",
       "  display: inline-block !important;\n",
       "  position: relative;\n",
       "}\n",
       "\n",
       "#sk-container-id-1 div.sk-text-repr-fallback {\n",
       "  display: none;\n",
       "}\n",
       "\n",
       "div.sk-parallel-item,\n",
       "div.sk-serial,\n",
       "div.sk-item {\n",
       "  /* draw centered vertical line to link estimators */\n",
       "  background-image: linear-gradient(var(--sklearn-color-text-on-default-background), var(--sklearn-color-text-on-default-background));\n",
       "  background-size: 2px 100%;\n",
       "  background-repeat: no-repeat;\n",
       "  background-position: center center;\n",
       "}\n",
       "\n",
       "/* Parallel-specific style estimator block */\n",
       "\n",
       "#sk-container-id-1 div.sk-parallel-item::after {\n",
       "  content: \"\";\n",
       "  width: 100%;\n",
       "  border-bottom: 2px solid var(--sklearn-color-text-on-default-background);\n",
       "  flex-grow: 1;\n",
       "}\n",
       "\n",
       "#sk-container-id-1 div.sk-parallel {\n",
       "  display: flex;\n",
       "  align-items: stretch;\n",
       "  justify-content: center;\n",
       "  background-color: var(--sklearn-color-background);\n",
       "  position: relative;\n",
       "}\n",
       "\n",
       "#sk-container-id-1 div.sk-parallel-item {\n",
       "  display: flex;\n",
       "  flex-direction: column;\n",
       "}\n",
       "\n",
       "#sk-container-id-1 div.sk-parallel-item:first-child::after {\n",
       "  align-self: flex-end;\n",
       "  width: 50%;\n",
       "}\n",
       "\n",
       "#sk-container-id-1 div.sk-parallel-item:last-child::after {\n",
       "  align-self: flex-start;\n",
       "  width: 50%;\n",
       "}\n",
       "\n",
       "#sk-container-id-1 div.sk-parallel-item:only-child::after {\n",
       "  width: 0;\n",
       "}\n",
       "\n",
       "/* Serial-specific style estimator block */\n",
       "\n",
       "#sk-container-id-1 div.sk-serial {\n",
       "  display: flex;\n",
       "  flex-direction: column;\n",
       "  align-items: center;\n",
       "  background-color: var(--sklearn-color-background);\n",
       "  padding-right: 1em;\n",
       "  padding-left: 1em;\n",
       "}\n",
       "\n",
       "\n",
       "/* Toggleable style: style used for estimator/Pipeline/ColumnTransformer box that is\n",
       "clickable and can be expanded/collapsed.\n",
       "- Pipeline and ColumnTransformer use this feature and define the default style\n",
       "- Estimators will overwrite some part of the style using the `sk-estimator` class\n",
       "*/\n",
       "\n",
       "/* Pipeline and ColumnTransformer style (default) */\n",
       "\n",
       "#sk-container-id-1 div.sk-toggleable {\n",
       "  /* Default theme specific background. It is overwritten whether we have a\n",
       "  specific estimator or a Pipeline/ColumnTransformer */\n",
       "  background-color: var(--sklearn-color-background);\n",
       "}\n",
       "\n",
       "/* Toggleable label */\n",
       "#sk-container-id-1 label.sk-toggleable__label {\n",
       "  cursor: pointer;\n",
       "  display: block;\n",
       "  width: 100%;\n",
       "  margin-bottom: 0;\n",
       "  padding: 0.5em;\n",
       "  box-sizing: border-box;\n",
       "  text-align: center;\n",
       "}\n",
       "\n",
       "#sk-container-id-1 label.sk-toggleable__label-arrow:before {\n",
       "  /* Arrow on the left of the label */\n",
       "  content: \"▸\";\n",
       "  float: left;\n",
       "  margin-right: 0.25em;\n",
       "  color: var(--sklearn-color-icon);\n",
       "}\n",
       "\n",
       "#sk-container-id-1 label.sk-toggleable__label-arrow:hover:before {\n",
       "  color: var(--sklearn-color-text);\n",
       "}\n",
       "\n",
       "/* Toggleable content - dropdown */\n",
       "\n",
       "#sk-container-id-1 div.sk-toggleable__content {\n",
       "  max-height: 0;\n",
       "  max-width: 0;\n",
       "  overflow: hidden;\n",
       "  text-align: left;\n",
       "  /* unfitted */\n",
       "  background-color: var(--sklearn-color-unfitted-level-0);\n",
       "}\n",
       "\n",
       "#sk-container-id-1 div.sk-toggleable__content.fitted {\n",
       "  /* fitted */\n",
       "  background-color: var(--sklearn-color-fitted-level-0);\n",
       "}\n",
       "\n",
       "#sk-container-id-1 div.sk-toggleable__content pre {\n",
       "  margin: 0.2em;\n",
       "  border-radius: 0.25em;\n",
       "  color: var(--sklearn-color-text);\n",
       "  /* unfitted */\n",
       "  background-color: var(--sklearn-color-unfitted-level-0);\n",
       "}\n",
       "\n",
       "#sk-container-id-1 div.sk-toggleable__content.fitted pre {\n",
       "  /* unfitted */\n",
       "  background-color: var(--sklearn-color-fitted-level-0);\n",
       "}\n",
       "\n",
       "#sk-container-id-1 input.sk-toggleable__control:checked~div.sk-toggleable__content {\n",
       "  /* Expand drop-down */\n",
       "  max-height: 200px;\n",
       "  max-width: 100%;\n",
       "  overflow: auto;\n",
       "}\n",
       "\n",
       "#sk-container-id-1 input.sk-toggleable__control:checked~label.sk-toggleable__label-arrow:before {\n",
       "  content: \"▾\";\n",
       "}\n",
       "\n",
       "/* Pipeline/ColumnTransformer-specific style */\n",
       "\n",
       "#sk-container-id-1 div.sk-label input.sk-toggleable__control:checked~label.sk-toggleable__label {\n",
       "  color: var(--sklearn-color-text);\n",
       "  background-color: var(--sklearn-color-unfitted-level-2);\n",
       "}\n",
       "\n",
       "#sk-container-id-1 div.sk-label.fitted input.sk-toggleable__control:checked~label.sk-toggleable__label {\n",
       "  background-color: var(--sklearn-color-fitted-level-2);\n",
       "}\n",
       "\n",
       "/* Estimator-specific style */\n",
       "\n",
       "/* Colorize estimator box */\n",
       "#sk-container-id-1 div.sk-estimator input.sk-toggleable__control:checked~label.sk-toggleable__label {\n",
       "  /* unfitted */\n",
       "  background-color: var(--sklearn-color-unfitted-level-2);\n",
       "}\n",
       "\n",
       "#sk-container-id-1 div.sk-estimator.fitted input.sk-toggleable__control:checked~label.sk-toggleable__label {\n",
       "  /* fitted */\n",
       "  background-color: var(--sklearn-color-fitted-level-2);\n",
       "}\n",
       "\n",
       "#sk-container-id-1 div.sk-label label.sk-toggleable__label,\n",
       "#sk-container-id-1 div.sk-label label {\n",
       "  /* The background is the default theme color */\n",
       "  color: var(--sklearn-color-text-on-default-background);\n",
       "}\n",
       "\n",
       "/* On hover, darken the color of the background */\n",
       "#sk-container-id-1 div.sk-label:hover label.sk-toggleable__label {\n",
       "  color: var(--sklearn-color-text);\n",
       "  background-color: var(--sklearn-color-unfitted-level-2);\n",
       "}\n",
       "\n",
       "/* Label box, darken color on hover, fitted */\n",
       "#sk-container-id-1 div.sk-label.fitted:hover label.sk-toggleable__label.fitted {\n",
       "  color: var(--sklearn-color-text);\n",
       "  background-color: var(--sklearn-color-fitted-level-2);\n",
       "}\n",
       "\n",
       "/* Estimator label */\n",
       "\n",
       "#sk-container-id-1 div.sk-label label {\n",
       "  font-family: monospace;\n",
       "  font-weight: bold;\n",
       "  display: inline-block;\n",
       "  line-height: 1.2em;\n",
       "}\n",
       "\n",
       "#sk-container-id-1 div.sk-label-container {\n",
       "  text-align: center;\n",
       "}\n",
       "\n",
       "/* Estimator-specific */\n",
       "#sk-container-id-1 div.sk-estimator {\n",
       "  font-family: monospace;\n",
       "  border: 1px dotted var(--sklearn-color-border-box);\n",
       "  border-radius: 0.25em;\n",
       "  box-sizing: border-box;\n",
       "  margin-bottom: 0.5em;\n",
       "  /* unfitted */\n",
       "  background-color: var(--sklearn-color-unfitted-level-0);\n",
       "}\n",
       "\n",
       "#sk-container-id-1 div.sk-estimator.fitted {\n",
       "  /* fitted */\n",
       "  background-color: var(--sklearn-color-fitted-level-0);\n",
       "}\n",
       "\n",
       "/* on hover */\n",
       "#sk-container-id-1 div.sk-estimator:hover {\n",
       "  /* unfitted */\n",
       "  background-color: var(--sklearn-color-unfitted-level-2);\n",
       "}\n",
       "\n",
       "#sk-container-id-1 div.sk-estimator.fitted:hover {\n",
       "  /* fitted */\n",
       "  background-color: var(--sklearn-color-fitted-level-2);\n",
       "}\n",
       "\n",
       "/* Specification for estimator info (e.g. \"i\" and \"?\") */\n",
       "\n",
       "/* Common style for \"i\" and \"?\" */\n",
       "\n",
       ".sk-estimator-doc-link,\n",
       "a:link.sk-estimator-doc-link,\n",
       "a:visited.sk-estimator-doc-link {\n",
       "  float: right;\n",
       "  font-size: smaller;\n",
       "  line-height: 1em;\n",
       "  font-family: monospace;\n",
       "  background-color: var(--sklearn-color-background);\n",
       "  border-radius: 1em;\n",
       "  height: 1em;\n",
       "  width: 1em;\n",
       "  text-decoration: none !important;\n",
       "  margin-left: 1ex;\n",
       "  /* unfitted */\n",
       "  border: var(--sklearn-color-unfitted-level-1) 1pt solid;\n",
       "  color: var(--sklearn-color-unfitted-level-1);\n",
       "}\n",
       "\n",
       ".sk-estimator-doc-link.fitted,\n",
       "a:link.sk-estimator-doc-link.fitted,\n",
       "a:visited.sk-estimator-doc-link.fitted {\n",
       "  /* fitted */\n",
       "  border: var(--sklearn-color-fitted-level-1) 1pt solid;\n",
       "  color: var(--sklearn-color-fitted-level-1);\n",
       "}\n",
       "\n",
       "/* On hover */\n",
       "div.sk-estimator:hover .sk-estimator-doc-link:hover,\n",
       ".sk-estimator-doc-link:hover,\n",
       "div.sk-label-container:hover .sk-estimator-doc-link:hover,\n",
       ".sk-estimator-doc-link:hover {\n",
       "  /* unfitted */\n",
       "  background-color: var(--sklearn-color-unfitted-level-3);\n",
       "  color: var(--sklearn-color-background);\n",
       "  text-decoration: none;\n",
       "}\n",
       "\n",
       "div.sk-estimator.fitted:hover .sk-estimator-doc-link.fitted:hover,\n",
       ".sk-estimator-doc-link.fitted:hover,\n",
       "div.sk-label-container:hover .sk-estimator-doc-link.fitted:hover,\n",
       ".sk-estimator-doc-link.fitted:hover {\n",
       "  /* fitted */\n",
       "  background-color: var(--sklearn-color-fitted-level-3);\n",
       "  color: var(--sklearn-color-background);\n",
       "  text-decoration: none;\n",
       "}\n",
       "\n",
       "/* Span, style for the box shown on hovering the info icon */\n",
       ".sk-estimator-doc-link span {\n",
       "  display: none;\n",
       "  z-index: 9999;\n",
       "  position: relative;\n",
       "  font-weight: normal;\n",
       "  right: .2ex;\n",
       "  padding: .5ex;\n",
       "  margin: .5ex;\n",
       "  width: min-content;\n",
       "  min-width: 20ex;\n",
       "  max-width: 50ex;\n",
       "  color: var(--sklearn-color-text);\n",
       "  box-shadow: 2pt 2pt 4pt #999;\n",
       "  /* unfitted */\n",
       "  background: var(--sklearn-color-unfitted-level-0);\n",
       "  border: .5pt solid var(--sklearn-color-unfitted-level-3);\n",
       "}\n",
       "\n",
       ".sk-estimator-doc-link.fitted span {\n",
       "  /* fitted */\n",
       "  background: var(--sklearn-color-fitted-level-0);\n",
       "  border: var(--sklearn-color-fitted-level-3);\n",
       "}\n",
       "\n",
       ".sk-estimator-doc-link:hover span {\n",
       "  display: block;\n",
       "}\n",
       "\n",
       "/* \"?\"-specific style due to the `<a>` HTML tag */\n",
       "\n",
       "#sk-container-id-1 a.estimator_doc_link {\n",
       "  float: right;\n",
       "  font-size: 1rem;\n",
       "  line-height: 1em;\n",
       "  font-family: monospace;\n",
       "  background-color: var(--sklearn-color-background);\n",
       "  border-radius: 1rem;\n",
       "  height: 1rem;\n",
       "  width: 1rem;\n",
       "  text-decoration: none;\n",
       "  /* unfitted */\n",
       "  color: var(--sklearn-color-unfitted-level-1);\n",
       "  border: var(--sklearn-color-unfitted-level-1) 1pt solid;\n",
       "}\n",
       "\n",
       "#sk-container-id-1 a.estimator_doc_link.fitted {\n",
       "  /* fitted */\n",
       "  border: var(--sklearn-color-fitted-level-1) 1pt solid;\n",
       "  color: var(--sklearn-color-fitted-level-1);\n",
       "}\n",
       "\n",
       "/* On hover */\n",
       "#sk-container-id-1 a.estimator_doc_link:hover {\n",
       "  /* unfitted */\n",
       "  background-color: var(--sklearn-color-unfitted-level-3);\n",
       "  color: var(--sklearn-color-background);\n",
       "  text-decoration: none;\n",
       "}\n",
       "\n",
       "#sk-container-id-1 a.estimator_doc_link.fitted:hover {\n",
       "  /* fitted */\n",
       "  background-color: var(--sklearn-color-fitted-level-3);\n",
       "}\n",
       "</style><div id=\"sk-container-id-1\" class=\"sk-top-container\"><div class=\"sk-text-repr-fallback\"><pre>LogisticRegression()</pre><b>In a Jupyter environment, please rerun this cell to show the HTML representation or trust the notebook. <br />On GitHub, the HTML representation is unable to render, please try loading this page with nbviewer.org.</b></div><div class=\"sk-container\" hidden><div class=\"sk-item\"><div class=\"sk-estimator fitted sk-toggleable\"><input class=\"sk-toggleable__control sk-hidden--visually\" id=\"sk-estimator-id-1\" type=\"checkbox\" checked><label for=\"sk-estimator-id-1\" class=\"sk-toggleable__label fitted sk-toggleable__label-arrow fitted\">&nbsp;&nbsp;LogisticRegression<a class=\"sk-estimator-doc-link fitted\" rel=\"noreferrer\" target=\"_blank\" href=\"https://scikit-learn.org/1.4/modules/generated/sklearn.linear_model.LogisticRegression.html\">?<span>Documentation for LogisticRegression</span></a><span class=\"sk-estimator-doc-link fitted\">i<span>Fitted</span></span></label><div class=\"sk-toggleable__content fitted\"><pre>LogisticRegression()</pre></div> </div></div></div></div>"
      ],
      "text/plain": [
       "LogisticRegression()"
      ]
     },
     "execution_count": 70,
     "metadata": {},
     "output_type": "execute_result"
    }
   ],
   "source": [
    "LR.fit(x_train,y_train)"
   ]
  },
  {
   "cell_type": "code",
   "execution_count": 71,
   "id": "82fe8849-ec13-4eb5-acfd-72aa17be48dd",
   "metadata": {},
   "outputs": [],
   "source": [
    "y_pred=LR.predict(x_test)"
   ]
  },
  {
   "cell_type": "code",
   "execution_count": 72,
   "id": "d0372b92-0ad3-4030-84b0-99cd3918faba",
   "metadata": {},
   "outputs": [
    {
     "data": {
      "text/plain": [
       "array([0, 1, 0, 0, 0, 0, 1, 1, 0, 0, 1, 1, 1, 1, 0, 1, 0, 1, 1, 0])"
      ]
     },
     "execution_count": 72,
     "metadata": {},
     "output_type": "execute_result"
    }
   ],
   "source": [
    "y_pred"
   ]
  },
  {
   "cell_type": "code",
   "execution_count": 75,
   "id": "6791eea1-871c-4e65-aef0-99084043891b",
   "metadata": {},
   "outputs": [
    {
     "data": {
      "text/plain": [
       "0.75"
      ]
     },
     "execution_count": 75,
     "metadata": {},
     "output_type": "execute_result"
    }
   ],
   "source": [
    "from sklearn.metrics import accuracy_score, precision_score, recall_score, f1_score, confusion_matrix\n",
    "accuracy_score(y_pred,y_test)"
   ]
  },
  {
   "cell_type": "code",
   "execution_count": 76,
   "id": "3bd56749-0293-4b32-aeeb-cc169796d8b7",
   "metadata": {},
   "outputs": [],
   "source": [
    "from sklearn.tree import DecisionTreeClassifier"
   ]
  },
  {
   "cell_type": "code",
   "execution_count": 77,
   "id": "4f0cd5a1-e733-4fa1-8f1b-e7b909e5f8ed",
   "metadata": {},
   "outputs": [],
   "source": [
    "DT=DecisionTreeClassifier()"
   ]
  },
  {
   "cell_type": "code",
   "execution_count": 78,
   "id": "22bcdf4e-1195-4cbd-8e69-1291ac64e8da",
   "metadata": {},
   "outputs": [
    {
     "data": {
      "text/html": [
       "<style>#sk-container-id-2 {\n",
       "  /* Definition of color scheme common for light and dark mode */\n",
       "  --sklearn-color-text: black;\n",
       "  --sklearn-color-line: gray;\n",
       "  /* Definition of color scheme for unfitted estimators */\n",
       "  --sklearn-color-unfitted-level-0: #fff5e6;\n",
       "  --sklearn-color-unfitted-level-1: #f6e4d2;\n",
       "  --sklearn-color-unfitted-level-2: #ffe0b3;\n",
       "  --sklearn-color-unfitted-level-3: chocolate;\n",
       "  /* Definition of color scheme for fitted estimators */\n",
       "  --sklearn-color-fitted-level-0: #f0f8ff;\n",
       "  --sklearn-color-fitted-level-1: #d4ebff;\n",
       "  --sklearn-color-fitted-level-2: #b3dbfd;\n",
       "  --sklearn-color-fitted-level-3: cornflowerblue;\n",
       "\n",
       "  /* Specific color for light theme */\n",
       "  --sklearn-color-text-on-default-background: var(--sg-text-color, var(--theme-code-foreground, var(--jp-content-font-color1, black)));\n",
       "  --sklearn-color-background: var(--sg-background-color, var(--theme-background, var(--jp-layout-color0, white)));\n",
       "  --sklearn-color-border-box: var(--sg-text-color, var(--theme-code-foreground, var(--jp-content-font-color1, black)));\n",
       "  --sklearn-color-icon: #696969;\n",
       "\n",
       "  @media (prefers-color-scheme: dark) {\n",
       "    /* Redefinition of color scheme for dark theme */\n",
       "    --sklearn-color-text-on-default-background: var(--sg-text-color, var(--theme-code-foreground, var(--jp-content-font-color1, white)));\n",
       "    --sklearn-color-background: var(--sg-background-color, var(--theme-background, var(--jp-layout-color0, #111)));\n",
       "    --sklearn-color-border-box: var(--sg-text-color, var(--theme-code-foreground, var(--jp-content-font-color1, white)));\n",
       "    --sklearn-color-icon: #878787;\n",
       "  }\n",
       "}\n",
       "\n",
       "#sk-container-id-2 {\n",
       "  color: var(--sklearn-color-text);\n",
       "}\n",
       "\n",
       "#sk-container-id-2 pre {\n",
       "  padding: 0;\n",
       "}\n",
       "\n",
       "#sk-container-id-2 input.sk-hidden--visually {\n",
       "  border: 0;\n",
       "  clip: rect(1px 1px 1px 1px);\n",
       "  clip: rect(1px, 1px, 1px, 1px);\n",
       "  height: 1px;\n",
       "  margin: -1px;\n",
       "  overflow: hidden;\n",
       "  padding: 0;\n",
       "  position: absolute;\n",
       "  width: 1px;\n",
       "}\n",
       "\n",
       "#sk-container-id-2 div.sk-dashed-wrapped {\n",
       "  border: 1px dashed var(--sklearn-color-line);\n",
       "  margin: 0 0.4em 0.5em 0.4em;\n",
       "  box-sizing: border-box;\n",
       "  padding-bottom: 0.4em;\n",
       "  background-color: var(--sklearn-color-background);\n",
       "}\n",
       "\n",
       "#sk-container-id-2 div.sk-container {\n",
       "  /* jupyter's `normalize.less` sets `[hidden] { display: none; }`\n",
       "     but bootstrap.min.css set `[hidden] { display: none !important; }`\n",
       "     so we also need the `!important` here to be able to override the\n",
       "     default hidden behavior on the sphinx rendered scikit-learn.org.\n",
       "     See: https://github.com/scikit-learn/scikit-learn/issues/21755 */\n",
       "  display: inline-block !important;\n",
       "  position: relative;\n",
       "}\n",
       "\n",
       "#sk-container-id-2 div.sk-text-repr-fallback {\n",
       "  display: none;\n",
       "}\n",
       "\n",
       "div.sk-parallel-item,\n",
       "div.sk-serial,\n",
       "div.sk-item {\n",
       "  /* draw centered vertical line to link estimators */\n",
       "  background-image: linear-gradient(var(--sklearn-color-text-on-default-background), var(--sklearn-color-text-on-default-background));\n",
       "  background-size: 2px 100%;\n",
       "  background-repeat: no-repeat;\n",
       "  background-position: center center;\n",
       "}\n",
       "\n",
       "/* Parallel-specific style estimator block */\n",
       "\n",
       "#sk-container-id-2 div.sk-parallel-item::after {\n",
       "  content: \"\";\n",
       "  width: 100%;\n",
       "  border-bottom: 2px solid var(--sklearn-color-text-on-default-background);\n",
       "  flex-grow: 1;\n",
       "}\n",
       "\n",
       "#sk-container-id-2 div.sk-parallel {\n",
       "  display: flex;\n",
       "  align-items: stretch;\n",
       "  justify-content: center;\n",
       "  background-color: var(--sklearn-color-background);\n",
       "  position: relative;\n",
       "}\n",
       "\n",
       "#sk-container-id-2 div.sk-parallel-item {\n",
       "  display: flex;\n",
       "  flex-direction: column;\n",
       "}\n",
       "\n",
       "#sk-container-id-2 div.sk-parallel-item:first-child::after {\n",
       "  align-self: flex-end;\n",
       "  width: 50%;\n",
       "}\n",
       "\n",
       "#sk-container-id-2 div.sk-parallel-item:last-child::after {\n",
       "  align-self: flex-start;\n",
       "  width: 50%;\n",
       "}\n",
       "\n",
       "#sk-container-id-2 div.sk-parallel-item:only-child::after {\n",
       "  width: 0;\n",
       "}\n",
       "\n",
       "/* Serial-specific style estimator block */\n",
       "\n",
       "#sk-container-id-2 div.sk-serial {\n",
       "  display: flex;\n",
       "  flex-direction: column;\n",
       "  align-items: center;\n",
       "  background-color: var(--sklearn-color-background);\n",
       "  padding-right: 1em;\n",
       "  padding-left: 1em;\n",
       "}\n",
       "\n",
       "\n",
       "/* Toggleable style: style used for estimator/Pipeline/ColumnTransformer box that is\n",
       "clickable and can be expanded/collapsed.\n",
       "- Pipeline and ColumnTransformer use this feature and define the default style\n",
       "- Estimators will overwrite some part of the style using the `sk-estimator` class\n",
       "*/\n",
       "\n",
       "/* Pipeline and ColumnTransformer style (default) */\n",
       "\n",
       "#sk-container-id-2 div.sk-toggleable {\n",
       "  /* Default theme specific background. It is overwritten whether we have a\n",
       "  specific estimator or a Pipeline/ColumnTransformer */\n",
       "  background-color: var(--sklearn-color-background);\n",
       "}\n",
       "\n",
       "/* Toggleable label */\n",
       "#sk-container-id-2 label.sk-toggleable__label {\n",
       "  cursor: pointer;\n",
       "  display: block;\n",
       "  width: 100%;\n",
       "  margin-bottom: 0;\n",
       "  padding: 0.5em;\n",
       "  box-sizing: border-box;\n",
       "  text-align: center;\n",
       "}\n",
       "\n",
       "#sk-container-id-2 label.sk-toggleable__label-arrow:before {\n",
       "  /* Arrow on the left of the label */\n",
       "  content: \"▸\";\n",
       "  float: left;\n",
       "  margin-right: 0.25em;\n",
       "  color: var(--sklearn-color-icon);\n",
       "}\n",
       "\n",
       "#sk-container-id-2 label.sk-toggleable__label-arrow:hover:before {\n",
       "  color: var(--sklearn-color-text);\n",
       "}\n",
       "\n",
       "/* Toggleable content - dropdown */\n",
       "\n",
       "#sk-container-id-2 div.sk-toggleable__content {\n",
       "  max-height: 0;\n",
       "  max-width: 0;\n",
       "  overflow: hidden;\n",
       "  text-align: left;\n",
       "  /* unfitted */\n",
       "  background-color: var(--sklearn-color-unfitted-level-0);\n",
       "}\n",
       "\n",
       "#sk-container-id-2 div.sk-toggleable__content.fitted {\n",
       "  /* fitted */\n",
       "  background-color: var(--sklearn-color-fitted-level-0);\n",
       "}\n",
       "\n",
       "#sk-container-id-2 div.sk-toggleable__content pre {\n",
       "  margin: 0.2em;\n",
       "  border-radius: 0.25em;\n",
       "  color: var(--sklearn-color-text);\n",
       "  /* unfitted */\n",
       "  background-color: var(--sklearn-color-unfitted-level-0);\n",
       "}\n",
       "\n",
       "#sk-container-id-2 div.sk-toggleable__content.fitted pre {\n",
       "  /* unfitted */\n",
       "  background-color: var(--sklearn-color-fitted-level-0);\n",
       "}\n",
       "\n",
       "#sk-container-id-2 input.sk-toggleable__control:checked~div.sk-toggleable__content {\n",
       "  /* Expand drop-down */\n",
       "  max-height: 200px;\n",
       "  max-width: 100%;\n",
       "  overflow: auto;\n",
       "}\n",
       "\n",
       "#sk-container-id-2 input.sk-toggleable__control:checked~label.sk-toggleable__label-arrow:before {\n",
       "  content: \"▾\";\n",
       "}\n",
       "\n",
       "/* Pipeline/ColumnTransformer-specific style */\n",
       "\n",
       "#sk-container-id-2 div.sk-label input.sk-toggleable__control:checked~label.sk-toggleable__label {\n",
       "  color: var(--sklearn-color-text);\n",
       "  background-color: var(--sklearn-color-unfitted-level-2);\n",
       "}\n",
       "\n",
       "#sk-container-id-2 div.sk-label.fitted input.sk-toggleable__control:checked~label.sk-toggleable__label {\n",
       "  background-color: var(--sklearn-color-fitted-level-2);\n",
       "}\n",
       "\n",
       "/* Estimator-specific style */\n",
       "\n",
       "/* Colorize estimator box */\n",
       "#sk-container-id-2 div.sk-estimator input.sk-toggleable__control:checked~label.sk-toggleable__label {\n",
       "  /* unfitted */\n",
       "  background-color: var(--sklearn-color-unfitted-level-2);\n",
       "}\n",
       "\n",
       "#sk-container-id-2 div.sk-estimator.fitted input.sk-toggleable__control:checked~label.sk-toggleable__label {\n",
       "  /* fitted */\n",
       "  background-color: var(--sklearn-color-fitted-level-2);\n",
       "}\n",
       "\n",
       "#sk-container-id-2 div.sk-label label.sk-toggleable__label,\n",
       "#sk-container-id-2 div.sk-label label {\n",
       "  /* The background is the default theme color */\n",
       "  color: var(--sklearn-color-text-on-default-background);\n",
       "}\n",
       "\n",
       "/* On hover, darken the color of the background */\n",
       "#sk-container-id-2 div.sk-label:hover label.sk-toggleable__label {\n",
       "  color: var(--sklearn-color-text);\n",
       "  background-color: var(--sklearn-color-unfitted-level-2);\n",
       "}\n",
       "\n",
       "/* Label box, darken color on hover, fitted */\n",
       "#sk-container-id-2 div.sk-label.fitted:hover label.sk-toggleable__label.fitted {\n",
       "  color: var(--sklearn-color-text);\n",
       "  background-color: var(--sklearn-color-fitted-level-2);\n",
       "}\n",
       "\n",
       "/* Estimator label */\n",
       "\n",
       "#sk-container-id-2 div.sk-label label {\n",
       "  font-family: monospace;\n",
       "  font-weight: bold;\n",
       "  display: inline-block;\n",
       "  line-height: 1.2em;\n",
       "}\n",
       "\n",
       "#sk-container-id-2 div.sk-label-container {\n",
       "  text-align: center;\n",
       "}\n",
       "\n",
       "/* Estimator-specific */\n",
       "#sk-container-id-2 div.sk-estimator {\n",
       "  font-family: monospace;\n",
       "  border: 1px dotted var(--sklearn-color-border-box);\n",
       "  border-radius: 0.25em;\n",
       "  box-sizing: border-box;\n",
       "  margin-bottom: 0.5em;\n",
       "  /* unfitted */\n",
       "  background-color: var(--sklearn-color-unfitted-level-0);\n",
       "}\n",
       "\n",
       "#sk-container-id-2 div.sk-estimator.fitted {\n",
       "  /* fitted */\n",
       "  background-color: var(--sklearn-color-fitted-level-0);\n",
       "}\n",
       "\n",
       "/* on hover */\n",
       "#sk-container-id-2 div.sk-estimator:hover {\n",
       "  /* unfitted */\n",
       "  background-color: var(--sklearn-color-unfitted-level-2);\n",
       "}\n",
       "\n",
       "#sk-container-id-2 div.sk-estimator.fitted:hover {\n",
       "  /* fitted */\n",
       "  background-color: var(--sklearn-color-fitted-level-2);\n",
       "}\n",
       "\n",
       "/* Specification for estimator info (e.g. \"i\" and \"?\") */\n",
       "\n",
       "/* Common style for \"i\" and \"?\" */\n",
       "\n",
       ".sk-estimator-doc-link,\n",
       "a:link.sk-estimator-doc-link,\n",
       "a:visited.sk-estimator-doc-link {\n",
       "  float: right;\n",
       "  font-size: smaller;\n",
       "  line-height: 1em;\n",
       "  font-family: monospace;\n",
       "  background-color: var(--sklearn-color-background);\n",
       "  border-radius: 1em;\n",
       "  height: 1em;\n",
       "  width: 1em;\n",
       "  text-decoration: none !important;\n",
       "  margin-left: 1ex;\n",
       "  /* unfitted */\n",
       "  border: var(--sklearn-color-unfitted-level-1) 1pt solid;\n",
       "  color: var(--sklearn-color-unfitted-level-1);\n",
       "}\n",
       "\n",
       ".sk-estimator-doc-link.fitted,\n",
       "a:link.sk-estimator-doc-link.fitted,\n",
       "a:visited.sk-estimator-doc-link.fitted {\n",
       "  /* fitted */\n",
       "  border: var(--sklearn-color-fitted-level-1) 1pt solid;\n",
       "  color: var(--sklearn-color-fitted-level-1);\n",
       "}\n",
       "\n",
       "/* On hover */\n",
       "div.sk-estimator:hover .sk-estimator-doc-link:hover,\n",
       ".sk-estimator-doc-link:hover,\n",
       "div.sk-label-container:hover .sk-estimator-doc-link:hover,\n",
       ".sk-estimator-doc-link:hover {\n",
       "  /* unfitted */\n",
       "  background-color: var(--sklearn-color-unfitted-level-3);\n",
       "  color: var(--sklearn-color-background);\n",
       "  text-decoration: none;\n",
       "}\n",
       "\n",
       "div.sk-estimator.fitted:hover .sk-estimator-doc-link.fitted:hover,\n",
       ".sk-estimator-doc-link.fitted:hover,\n",
       "div.sk-label-container:hover .sk-estimator-doc-link.fitted:hover,\n",
       ".sk-estimator-doc-link.fitted:hover {\n",
       "  /* fitted */\n",
       "  background-color: var(--sklearn-color-fitted-level-3);\n",
       "  color: var(--sklearn-color-background);\n",
       "  text-decoration: none;\n",
       "}\n",
       "\n",
       "/* Span, style for the box shown on hovering the info icon */\n",
       ".sk-estimator-doc-link span {\n",
       "  display: none;\n",
       "  z-index: 9999;\n",
       "  position: relative;\n",
       "  font-weight: normal;\n",
       "  right: .2ex;\n",
       "  padding: .5ex;\n",
       "  margin: .5ex;\n",
       "  width: min-content;\n",
       "  min-width: 20ex;\n",
       "  max-width: 50ex;\n",
       "  color: var(--sklearn-color-text);\n",
       "  box-shadow: 2pt 2pt 4pt #999;\n",
       "  /* unfitted */\n",
       "  background: var(--sklearn-color-unfitted-level-0);\n",
       "  border: .5pt solid var(--sklearn-color-unfitted-level-3);\n",
       "}\n",
       "\n",
       ".sk-estimator-doc-link.fitted span {\n",
       "  /* fitted */\n",
       "  background: var(--sklearn-color-fitted-level-0);\n",
       "  border: var(--sklearn-color-fitted-level-3);\n",
       "}\n",
       "\n",
       ".sk-estimator-doc-link:hover span {\n",
       "  display: block;\n",
       "}\n",
       "\n",
       "/* \"?\"-specific style due to the `<a>` HTML tag */\n",
       "\n",
       "#sk-container-id-2 a.estimator_doc_link {\n",
       "  float: right;\n",
       "  font-size: 1rem;\n",
       "  line-height: 1em;\n",
       "  font-family: monospace;\n",
       "  background-color: var(--sklearn-color-background);\n",
       "  border-radius: 1rem;\n",
       "  height: 1rem;\n",
       "  width: 1rem;\n",
       "  text-decoration: none;\n",
       "  /* unfitted */\n",
       "  color: var(--sklearn-color-unfitted-level-1);\n",
       "  border: var(--sklearn-color-unfitted-level-1) 1pt solid;\n",
       "}\n",
       "\n",
       "#sk-container-id-2 a.estimator_doc_link.fitted {\n",
       "  /* fitted */\n",
       "  border: var(--sklearn-color-fitted-level-1) 1pt solid;\n",
       "  color: var(--sklearn-color-fitted-level-1);\n",
       "}\n",
       "\n",
       "/* On hover */\n",
       "#sk-container-id-2 a.estimator_doc_link:hover {\n",
       "  /* unfitted */\n",
       "  background-color: var(--sklearn-color-unfitted-level-3);\n",
       "  color: var(--sklearn-color-background);\n",
       "  text-decoration: none;\n",
       "}\n",
       "\n",
       "#sk-container-id-2 a.estimator_doc_link.fitted:hover {\n",
       "  /* fitted */\n",
       "  background-color: var(--sklearn-color-fitted-level-3);\n",
       "}\n",
       "</style><div id=\"sk-container-id-2\" class=\"sk-top-container\"><div class=\"sk-text-repr-fallback\"><pre>DecisionTreeClassifier()</pre><b>In a Jupyter environment, please rerun this cell to show the HTML representation or trust the notebook. <br />On GitHub, the HTML representation is unable to render, please try loading this page with nbviewer.org.</b></div><div class=\"sk-container\" hidden><div class=\"sk-item\"><div class=\"sk-estimator fitted sk-toggleable\"><input class=\"sk-toggleable__control sk-hidden--visually\" id=\"sk-estimator-id-2\" type=\"checkbox\" checked><label for=\"sk-estimator-id-2\" class=\"sk-toggleable__label fitted sk-toggleable__label-arrow fitted\">&nbsp;&nbsp;DecisionTreeClassifier<a class=\"sk-estimator-doc-link fitted\" rel=\"noreferrer\" target=\"_blank\" href=\"https://scikit-learn.org/1.4/modules/generated/sklearn.tree.DecisionTreeClassifier.html\">?<span>Documentation for DecisionTreeClassifier</span></a><span class=\"sk-estimator-doc-link fitted\">i<span>Fitted</span></span></label><div class=\"sk-toggleable__content fitted\"><pre>DecisionTreeClassifier()</pre></div> </div></div></div></div>"
      ],
      "text/plain": [
       "DecisionTreeClassifier()"
      ]
     },
     "execution_count": 78,
     "metadata": {},
     "output_type": "execute_result"
    }
   ],
   "source": [
    "DT.fit(x_train,y_train)"
   ]
  },
  {
   "cell_type": "code",
   "execution_count": 79,
   "id": "b7e044dc-7f38-4eb7-bd10-522953081a74",
   "metadata": {},
   "outputs": [
    {
     "data": {
      "text/plain": [
       "array([0, 1, 1, 0, 0, 1, 0, 0, 1, 1, 1, 1, 1, 1, 0, 0, 1, 1, 1, 1])"
      ]
     },
     "execution_count": 79,
     "metadata": {},
     "output_type": "execute_result"
    }
   ],
   "source": [
    "y_pred=DT.predict(x_test)\n",
    "y_pred"
   ]
  },
  {
   "cell_type": "code",
   "execution_count": 84,
   "id": "ca03ba73-748d-440a-997d-0fcdc63e1560",
   "metadata": {},
   "outputs": [
    {
     "data": {
      "text/plain": [
       "0.5"
      ]
     },
     "execution_count": 84,
     "metadata": {},
     "output_type": "execute_result"
    }
   ],
   "source": [
    "\n",
    "from sklearn.metrics import accuracy_score, precision_score, recall_score, f1_score, confusion_matrix\n",
    "accuracy_score(y_pred,y_test)\n"
   ]
  },
  {
   "cell_type": "code",
   "execution_count": 85,
   "id": "1d9c76fa-76f7-4799-aeeb-dc13309293d2",
   "metadata": {},
   "outputs": [],
   "source": [
    "import pickle"
   ]
  },
  {
   "cell_type": "code",
   "execution_count": 87,
   "id": "8ad0337b-3ecd-4bcb-8ea6-2099b0726903",
   "metadata": {},
   "outputs": [],
   "source": [
    "# save the model to a file\n",
    "filename = 'Covid_model.pkl'\n",
    "with open(filename, 'wb') as file:\n",
    "    pickle.dump(LR, file)"
   ]
  },
  {
   "cell_type": "code",
   "execution_count": 88,
   "id": "1c7c8c70-e012-4157-97f1-7038a411f1f4",
   "metadata": {},
   "outputs": [
    {
     "name": "stdout",
     "output_type": "stream",
     "text": [
      "Defaulting to user installation because normal site-packages is not writeable\n",
      "Requirement already satisfied: pycaret in c:\\users\\91945\\appdata\\roaming\\python\\python311\\site-packages (3.3.2)\n",
      "Requirement already satisfied: ipython>=5.5.0 in c:\\programdata\\anaconda3\\lib\\site-packages (from pycaret) (8.20.0)\n",
      "Requirement already satisfied: ipywidgets>=7.6.5 in c:\\programdata\\anaconda3\\lib\\site-packages (from pycaret) (7.6.5)\n",
      "Requirement already satisfied: tqdm>=4.62.0 in c:\\programdata\\anaconda3\\lib\\site-packages (from pycaret) (4.65.0)\n",
      "Requirement already satisfied: numpy<1.27,>=1.21 in c:\\programdata\\anaconda3\\lib\\site-packages (from pycaret) (1.26.4)\n",
      "Requirement already satisfied: pandas<2.2.0 in c:\\programdata\\anaconda3\\lib\\site-packages (from pycaret) (2.1.4)\n",
      "Requirement already satisfied: jinja2>=3 in c:\\programdata\\anaconda3\\lib\\site-packages (from pycaret) (3.1.3)\n",
      "Requirement already satisfied: scipy<=1.11.4,>=1.6.1 in c:\\programdata\\anaconda3\\lib\\site-packages (from pycaret) (1.11.4)\n",
      "Requirement already satisfied: joblib<1.4,>=1.2.0 in c:\\programdata\\anaconda3\\lib\\site-packages (from pycaret) (1.2.0)\n",
      "Requirement already satisfied: scikit-learn>1.4.0 in c:\\users\\91945\\appdata\\roaming\\python\\python311\\site-packages (from pycaret) (1.4.2)\n",
      "Requirement already satisfied: pyod>=1.1.3 in c:\\users\\91945\\appdata\\roaming\\python\\python311\\site-packages (from pycaret) (1.1.3)\n",
      "Requirement already satisfied: imbalanced-learn>=0.12.0 in c:\\users\\91945\\appdata\\roaming\\python\\python311\\site-packages (from pycaret) (0.12.2)\n",
      "Requirement already satisfied: category-encoders>=2.4.0 in c:\\users\\91945\\appdata\\roaming\\python\\python311\\site-packages (from pycaret) (2.6.3)\n",
      "Requirement already satisfied: lightgbm>=3.0.0 in c:\\users\\91945\\appdata\\roaming\\python\\python311\\site-packages (from pycaret) (4.3.0)\n",
      "Requirement already satisfied: numba>=0.55.0 in c:\\programdata\\anaconda3\\lib\\site-packages (from pycaret) (0.59.0)\n",
      "Requirement already satisfied: requests>=2.27.1 in c:\\programdata\\anaconda3\\lib\\site-packages (from pycaret) (2.31.0)\n",
      "Requirement already satisfied: psutil>=5.9.0 in c:\\programdata\\anaconda3\\lib\\site-packages (from pycaret) (5.9.0)\n",
      "Requirement already satisfied: markupsafe>=2.0.1 in c:\\programdata\\anaconda3\\lib\\site-packages (from pycaret) (2.1.3)\n",
      "Requirement already satisfied: importlib-metadata>=4.12.0 in c:\\programdata\\anaconda3\\lib\\site-packages (from pycaret) (7.0.1)\n",
      "Requirement already satisfied: nbformat>=4.2.0 in c:\\programdata\\anaconda3\\lib\\site-packages (from pycaret) (5.9.2)\n",
      "Requirement already satisfied: cloudpickle in c:\\programdata\\anaconda3\\lib\\site-packages (from pycaret) (2.2.1)\n",
      "Requirement already satisfied: deprecation>=2.1.0 in c:\\users\\91945\\appdata\\roaming\\python\\python311\\site-packages (from pycaret) (2.1.0)\n",
      "Requirement already satisfied: xxhash in c:\\users\\91945\\appdata\\roaming\\python\\python311\\site-packages (from pycaret) (3.4.1)\n",
      "Requirement already satisfied: matplotlib<3.8.0 in c:\\users\\91945\\appdata\\roaming\\python\\python311\\site-packages (from pycaret) (3.7.5)\n",
      "Requirement already satisfied: scikit-plot>=0.3.7 in c:\\users\\91945\\appdata\\roaming\\python\\python311\\site-packages (from pycaret) (0.3.7)\n",
      "Requirement already satisfied: yellowbrick>=1.4 in c:\\users\\91945\\appdata\\roaming\\python\\python311\\site-packages (from pycaret) (1.5)\n",
      "Requirement already satisfied: plotly>=5.14.0 in c:\\users\\91945\\appdata\\roaming\\python\\python311\\site-packages (from pycaret) (5.22.0)\n",
      "Requirement already satisfied: kaleido>=0.2.1 in c:\\users\\91945\\appdata\\roaming\\python\\python311\\site-packages (from pycaret) (0.2.1)\n",
      "Requirement already satisfied: schemdraw==0.15 in c:\\users\\91945\\appdata\\roaming\\python\\python311\\site-packages (from pycaret) (0.15)\n",
      "Requirement already satisfied: plotly-resampler>=0.8.3.1 in c:\\users\\91945\\appdata\\roaming\\python\\python311\\site-packages (from pycaret) (0.10.0)\n",
      "Requirement already satisfied: statsmodels>=0.12.1 in c:\\programdata\\anaconda3\\lib\\site-packages (from pycaret) (0.14.0)\n",
      "Requirement already satisfied: sktime==0.26.0 in c:\\users\\91945\\appdata\\roaming\\python\\python311\\site-packages (from pycaret) (0.26.0)\n",
      "Requirement already satisfied: tbats>=1.1.3 in c:\\users\\91945\\appdata\\roaming\\python\\python311\\site-packages (from pycaret) (1.1.3)\n",
      "Requirement already satisfied: pmdarima>=2.0.4 in c:\\users\\91945\\appdata\\roaming\\python\\python311\\site-packages (from pycaret) (2.0.4)\n",
      "Requirement already satisfied: packaging in c:\\programdata\\anaconda3\\lib\\site-packages (from sktime==0.26.0->pycaret) (23.1)\n",
      "Requirement already satisfied: scikit-base<0.8.0 in c:\\users\\91945\\appdata\\roaming\\python\\python311\\site-packages (from sktime==0.26.0->pycaret) (0.7.8)\n",
      "Requirement already satisfied: patsy>=0.5.1 in c:\\programdata\\anaconda3\\lib\\site-packages (from category-encoders>=2.4.0->pycaret) (0.5.3)\n",
      "Requirement already satisfied: threadpoolctl>=2.0.0 in c:\\programdata\\anaconda3\\lib\\site-packages (from imbalanced-learn>=0.12.0->pycaret) (2.2.0)\n",
      "Requirement already satisfied: zipp>=0.5 in c:\\programdata\\anaconda3\\lib\\site-packages (from importlib-metadata>=4.12.0->pycaret) (3.17.0)\n",
      "Requirement already satisfied: decorator in c:\\programdata\\anaconda3\\lib\\site-packages (from ipython>=5.5.0->pycaret) (5.1.1)\n",
      "Requirement already satisfied: jedi>=0.16 in c:\\programdata\\anaconda3\\lib\\site-packages (from ipython>=5.5.0->pycaret) (0.18.1)\n",
      "Requirement already satisfied: matplotlib-inline in c:\\programdata\\anaconda3\\lib\\site-packages (from ipython>=5.5.0->pycaret) (0.1.6)\n",
      "Requirement already satisfied: prompt-toolkit<3.1.0,>=3.0.41 in c:\\programdata\\anaconda3\\lib\\site-packages (from ipython>=5.5.0->pycaret) (3.0.43)\n",
      "Requirement already satisfied: pygments>=2.4.0 in c:\\programdata\\anaconda3\\lib\\site-packages (from ipython>=5.5.0->pycaret) (2.15.1)\n",
      "Requirement already satisfied: stack-data in c:\\programdata\\anaconda3\\lib\\site-packages (from ipython>=5.5.0->pycaret) (0.2.0)\n",
      "Requirement already satisfied: traitlets>=5 in c:\\programdata\\anaconda3\\lib\\site-packages (from ipython>=5.5.0->pycaret) (5.7.1)\n",
      "Requirement already satisfied: colorama in c:\\programdata\\anaconda3\\lib\\site-packages (from ipython>=5.5.0->pycaret) (0.4.6)\n",
      "Requirement already satisfied: ipykernel>=4.5.1 in c:\\programdata\\anaconda3\\lib\\site-packages (from ipywidgets>=7.6.5->pycaret) (6.28.0)\n",
      "Requirement already satisfied: ipython-genutils~=0.2.0 in c:\\programdata\\anaconda3\\lib\\site-packages (from ipywidgets>=7.6.5->pycaret) (0.2.0)\n",
      "Requirement already satisfied: widgetsnbextension~=3.5.0 in c:\\programdata\\anaconda3\\lib\\site-packages (from ipywidgets>=7.6.5->pycaret) (3.5.2)\n",
      "Requirement already satisfied: jupyterlab-widgets>=1.0.0 in c:\\programdata\\anaconda3\\lib\\site-packages (from ipywidgets>=7.6.5->pycaret) (3.0.9)\n",
      "Requirement already satisfied: contourpy>=1.0.1 in c:\\programdata\\anaconda3\\lib\\site-packages (from matplotlib<3.8.0->pycaret) (1.2.0)\n",
      "Requirement already satisfied: cycler>=0.10 in c:\\programdata\\anaconda3\\lib\\site-packages (from matplotlib<3.8.0->pycaret) (0.11.0)\n",
      "Requirement already satisfied: fonttools>=4.22.0 in c:\\programdata\\anaconda3\\lib\\site-packages (from matplotlib<3.8.0->pycaret) (4.25.0)\n",
      "Requirement already satisfied: kiwisolver>=1.0.1 in c:\\programdata\\anaconda3\\lib\\site-packages (from matplotlib<3.8.0->pycaret) (1.4.4)\n",
      "Requirement already satisfied: pillow>=6.2.0 in c:\\programdata\\anaconda3\\lib\\site-packages (from matplotlib<3.8.0->pycaret) (10.2.0)\n",
      "Requirement already satisfied: pyparsing>=2.3.1 in c:\\programdata\\anaconda3\\lib\\site-packages (from matplotlib<3.8.0->pycaret) (3.0.9)\n",
      "Requirement already satisfied: python-dateutil>=2.7 in c:\\programdata\\anaconda3\\lib\\site-packages (from matplotlib<3.8.0->pycaret) (2.8.2)\n",
      "Requirement already satisfied: fastjsonschema in c:\\programdata\\anaconda3\\lib\\site-packages (from nbformat>=4.2.0->pycaret) (2.16.2)\n",
      "Requirement already satisfied: jsonschema>=2.6 in c:\\programdata\\anaconda3\\lib\\site-packages (from nbformat>=4.2.0->pycaret) (4.19.2)\n",
      "Requirement already satisfied: jupyter-core in c:\\programdata\\anaconda3\\lib\\site-packages (from nbformat>=4.2.0->pycaret) (5.5.0)\n",
      "Requirement already satisfied: llvmlite<0.43,>=0.42.0dev0 in c:\\programdata\\anaconda3\\lib\\site-packages (from numba>=0.55.0->pycaret) (0.42.0)\n",
      "Requirement already satisfied: pytz>=2020.1 in c:\\programdata\\anaconda3\\lib\\site-packages (from pandas<2.2.0->pycaret) (2023.3.post1)\n",
      "Requirement already satisfied: tzdata>=2022.1 in c:\\programdata\\anaconda3\\lib\\site-packages (from pandas<2.2.0->pycaret) (2023.3)\n",
      "Requirement already satisfied: tenacity>=6.2.0 in c:\\programdata\\anaconda3\\lib\\site-packages (from plotly>=5.14.0->pycaret) (8.2.2)\n",
      "Requirement already satisfied: dash>=2.9.0 in c:\\users\\91945\\appdata\\roaming\\python\\python311\\site-packages (from plotly-resampler>=0.8.3.1->pycaret) (2.17.0)\n",
      "Requirement already satisfied: orjson<4.0.0,>=3.8.0 in c:\\users\\91945\\appdata\\roaming\\python\\python311\\site-packages (from plotly-resampler>=0.8.3.1->pycaret) (3.10.3)\n",
      "Requirement already satisfied: tsdownsample>=0.1.3 in c:\\users\\91945\\appdata\\roaming\\python\\python311\\site-packages (from plotly-resampler>=0.8.3.1->pycaret) (0.1.3)\n",
      "Requirement already satisfied: Cython!=0.29.18,!=0.29.31,>=0.29 in c:\\users\\91945\\appdata\\roaming\\python\\python311\\site-packages (from pmdarima>=2.0.4->pycaret) (3.0.10)\n",
      "Requirement already satisfied: urllib3 in c:\\programdata\\anaconda3\\lib\\site-packages (from pmdarima>=2.0.4->pycaret) (2.0.7)\n",
      "Requirement already satisfied: setuptools!=50.0.0,>=38.6.0 in c:\\programdata\\anaconda3\\lib\\site-packages (from pmdarima>=2.0.4->pycaret) (68.2.2)\n",
      "Requirement already satisfied: six in c:\\programdata\\anaconda3\\lib\\site-packages (from pyod>=1.1.3->pycaret) (1.16.0)\n",
      "Requirement already satisfied: charset-normalizer<4,>=2 in c:\\programdata\\anaconda3\\lib\\site-packages (from requests>=2.27.1->pycaret) (2.0.4)\n",
      "Requirement already satisfied: idna<4,>=2.5 in c:\\programdata\\anaconda3\\lib\\site-packages (from requests>=2.27.1->pycaret) (3.4)\n",
      "Requirement already satisfied: certifi>=2017.4.17 in c:\\programdata\\anaconda3\\lib\\site-packages (from requests>=2.27.1->pycaret) (2024.2.2)\n",
      "Requirement already satisfied: Flask<3.1,>=1.0.4 in c:\\programdata\\anaconda3\\lib\\site-packages (from dash>=2.9.0->plotly-resampler>=0.8.3.1->pycaret) (2.2.5)\n",
      "Requirement already satisfied: Werkzeug<3.1 in c:\\programdata\\anaconda3\\lib\\site-packages (from dash>=2.9.0->plotly-resampler>=0.8.3.1->pycaret) (2.2.3)\n",
      "Requirement already satisfied: dash-html-components==2.0.0 in c:\\users\\91945\\appdata\\roaming\\python\\python311\\site-packages (from dash>=2.9.0->plotly-resampler>=0.8.3.1->pycaret) (2.0.0)\n",
      "Requirement already satisfied: dash-core-components==2.0.0 in c:\\users\\91945\\appdata\\roaming\\python\\python311\\site-packages (from dash>=2.9.0->plotly-resampler>=0.8.3.1->pycaret) (2.0.0)\n",
      "Requirement already satisfied: dash-table==5.0.0 in c:\\users\\91945\\appdata\\roaming\\python\\python311\\site-packages (from dash>=2.9.0->plotly-resampler>=0.8.3.1->pycaret) (5.0.0)\n",
      "Requirement already satisfied: typing-extensions>=4.1.1 in c:\\programdata\\anaconda3\\lib\\site-packages (from dash>=2.9.0->plotly-resampler>=0.8.3.1->pycaret) (4.9.0)\n",
      "Requirement already satisfied: retrying in c:\\users\\91945\\appdata\\roaming\\python\\python311\\site-packages (from dash>=2.9.0->plotly-resampler>=0.8.3.1->pycaret) (1.3.4)\n",
      "Requirement already satisfied: nest-asyncio in c:\\programdata\\anaconda3\\lib\\site-packages (from dash>=2.9.0->plotly-resampler>=0.8.3.1->pycaret) (1.6.0)\n",
      "Requirement already satisfied: comm>=0.1.1 in c:\\programdata\\anaconda3\\lib\\site-packages (from ipykernel>=4.5.1->ipywidgets>=7.6.5->pycaret) (0.1.2)\n",
      "Requirement already satisfied: debugpy>=1.6.5 in c:\\programdata\\anaconda3\\lib\\site-packages (from ipykernel>=4.5.1->ipywidgets>=7.6.5->pycaret) (1.6.7)\n",
      "Requirement already satisfied: jupyter-client>=6.1.12 in c:\\programdata\\anaconda3\\lib\\site-packages (from ipykernel>=4.5.1->ipywidgets>=7.6.5->pycaret) (8.6.0)\n",
      "Requirement already satisfied: pyzmq>=24 in c:\\programdata\\anaconda3\\lib\\site-packages (from ipykernel>=4.5.1->ipywidgets>=7.6.5->pycaret) (25.1.2)\n",
      "Requirement already satisfied: tornado>=6.1 in c:\\programdata\\anaconda3\\lib\\site-packages (from ipykernel>=4.5.1->ipywidgets>=7.6.5->pycaret) (6.3.3)\n",
      "Requirement already satisfied: parso<0.9.0,>=0.8.0 in c:\\programdata\\anaconda3\\lib\\site-packages (from jedi>=0.16->ipython>=5.5.0->pycaret) (0.8.3)\n",
      "Requirement already satisfied: attrs>=22.2.0 in c:\\programdata\\anaconda3\\lib\\site-packages (from jsonschema>=2.6->nbformat>=4.2.0->pycaret) (23.1.0)\n",
      "Requirement already satisfied: jsonschema-specifications>=2023.03.6 in c:\\programdata\\anaconda3\\lib\\site-packages (from jsonschema>=2.6->nbformat>=4.2.0->pycaret) (2023.7.1)\n",
      "Requirement already satisfied: referencing>=0.28.4 in c:\\programdata\\anaconda3\\lib\\site-packages (from jsonschema>=2.6->nbformat>=4.2.0->pycaret) (0.30.2)\n",
      "Requirement already satisfied: rpds-py>=0.7.1 in c:\\programdata\\anaconda3\\lib\\site-packages (from jsonschema>=2.6->nbformat>=4.2.0->pycaret) (0.10.6)\n",
      "Requirement already satisfied: platformdirs>=2.5 in c:\\programdata\\anaconda3\\lib\\site-packages (from jupyter-core->nbformat>=4.2.0->pycaret) (3.10.0)\n",
      "Requirement already satisfied: pywin32>=300 in c:\\programdata\\anaconda3\\lib\\site-packages (from jupyter-core->nbformat>=4.2.0->pycaret) (305.1)\n",
      "Requirement already satisfied: wcwidth in c:\\programdata\\anaconda3\\lib\\site-packages (from prompt-toolkit<3.1.0,>=3.0.41->ipython>=5.5.0->pycaret) (0.2.5)\n",
      "Requirement already satisfied: notebook>=4.4.1 in c:\\programdata\\anaconda3\\lib\\site-packages (from widgetsnbextension~=3.5.0->ipywidgets>=7.6.5->pycaret) (7.0.8)\n",
      "Requirement already satisfied: executing in c:\\programdata\\anaconda3\\lib\\site-packages (from stack-data->ipython>=5.5.0->pycaret) (0.8.3)\n",
      "Requirement already satisfied: asttokens in c:\\programdata\\anaconda3\\lib\\site-packages (from stack-data->ipython>=5.5.0->pycaret) (2.0.5)\n",
      "Requirement already satisfied: pure-eval in c:\\programdata\\anaconda3\\lib\\site-packages (from stack-data->ipython>=5.5.0->pycaret) (0.2.2)\n",
      "Requirement already satisfied: itsdangerous>=2.0 in c:\\programdata\\anaconda3\\lib\\site-packages (from Flask<3.1,>=1.0.4->dash>=2.9.0->plotly-resampler>=0.8.3.1->pycaret) (2.0.1)\n",
      "Requirement already satisfied: click>=8.0 in c:\\programdata\\anaconda3\\lib\\site-packages (from Flask<3.1,>=1.0.4->dash>=2.9.0->plotly-resampler>=0.8.3.1->pycaret) (8.1.7)\n",
      "Requirement already satisfied: jupyter-server<3,>=2.4.0 in c:\\programdata\\anaconda3\\lib\\site-packages (from notebook>=4.4.1->widgetsnbextension~=3.5.0->ipywidgets>=7.6.5->pycaret) (2.10.0)\n",
      "Requirement already satisfied: jupyterlab-server<3,>=2.22.1 in c:\\programdata\\anaconda3\\lib\\site-packages (from notebook>=4.4.1->widgetsnbextension~=3.5.0->ipywidgets>=7.6.5->pycaret) (2.25.1)\n",
      "Requirement already satisfied: jupyterlab<4.1,>=4.0.2 in c:\\programdata\\anaconda3\\lib\\site-packages (from notebook>=4.4.1->widgetsnbextension~=3.5.0->ipywidgets>=7.6.5->pycaret) (4.0.11)\n",
      "Requirement already satisfied: notebook-shim<0.3,>=0.2 in c:\\programdata\\anaconda3\\lib\\site-packages (from notebook>=4.4.1->widgetsnbextension~=3.5.0->ipywidgets>=7.6.5->pycaret) (0.2.3)\n",
      "Requirement already satisfied: anyio>=3.1.0 in c:\\programdata\\anaconda3\\lib\\site-packages (from jupyter-server<3,>=2.4.0->notebook>=4.4.1->widgetsnbextension~=3.5.0->ipywidgets>=7.6.5->pycaret) (4.2.0)\n",
      "Requirement already satisfied: argon2-cffi in c:\\programdata\\anaconda3\\lib\\site-packages (from jupyter-server<3,>=2.4.0->notebook>=4.4.1->widgetsnbextension~=3.5.0->ipywidgets>=7.6.5->pycaret) (21.3.0)\n",
      "Requirement already satisfied: jupyter-events>=0.6.0 in c:\\programdata\\anaconda3\\lib\\site-packages (from jupyter-server<3,>=2.4.0->notebook>=4.4.1->widgetsnbextension~=3.5.0->ipywidgets>=7.6.5->pycaret) (0.8.0)\n",
      "Requirement already satisfied: jupyter-server-terminals in c:\\programdata\\anaconda3\\lib\\site-packages (from jupyter-server<3,>=2.4.0->notebook>=4.4.1->widgetsnbextension~=3.5.0->ipywidgets>=7.6.5->pycaret) (0.4.4)\n",
      "Requirement already satisfied: nbconvert>=6.4.4 in c:\\programdata\\anaconda3\\lib\\site-packages (from jupyter-server<3,>=2.4.0->notebook>=4.4.1->widgetsnbextension~=3.5.0->ipywidgets>=7.6.5->pycaret) (7.10.0)\n",
      "Requirement already satisfied: overrides in c:\\programdata\\anaconda3\\lib\\site-packages (from jupyter-server<3,>=2.4.0->notebook>=4.4.1->widgetsnbextension~=3.5.0->ipywidgets>=7.6.5->pycaret) (7.4.0)\n",
      "Requirement already satisfied: prometheus-client in c:\\programdata\\anaconda3\\lib\\site-packages (from jupyter-server<3,>=2.4.0->notebook>=4.4.1->widgetsnbextension~=3.5.0->ipywidgets>=7.6.5->pycaret) (0.14.1)\n",
      "Requirement already satisfied: pywinpty in c:\\programdata\\anaconda3\\lib\\site-packages (from jupyter-server<3,>=2.4.0->notebook>=4.4.1->widgetsnbextension~=3.5.0->ipywidgets>=7.6.5->pycaret) (2.0.10)\n",
      "Requirement already satisfied: send2trash>=1.8.2 in c:\\programdata\\anaconda3\\lib\\site-packages (from jupyter-server<3,>=2.4.0->notebook>=4.4.1->widgetsnbextension~=3.5.0->ipywidgets>=7.6.5->pycaret) (1.8.2)\n",
      "Requirement already satisfied: terminado>=0.8.3 in c:\\programdata\\anaconda3\\lib\\site-packages (from jupyter-server<3,>=2.4.0->notebook>=4.4.1->widgetsnbextension~=3.5.0->ipywidgets>=7.6.5->pycaret) (0.17.1)\n",
      "Requirement already satisfied: websocket-client in c:\\programdata\\anaconda3\\lib\\site-packages (from jupyter-server<3,>=2.4.0->notebook>=4.4.1->widgetsnbextension~=3.5.0->ipywidgets>=7.6.5->pycaret) (0.58.0)\n",
      "Requirement already satisfied: async-lru>=1.0.0 in c:\\programdata\\anaconda3\\lib\\site-packages (from jupyterlab<4.1,>=4.0.2->notebook>=4.4.1->widgetsnbextension~=3.5.0->ipywidgets>=7.6.5->pycaret) (2.0.4)\n",
      "Requirement already satisfied: jupyter-lsp>=2.0.0 in c:\\programdata\\anaconda3\\lib\\site-packages (from jupyterlab<4.1,>=4.0.2->notebook>=4.4.1->widgetsnbextension~=3.5.0->ipywidgets>=7.6.5->pycaret) (2.2.0)\n",
      "Requirement already satisfied: babel>=2.10 in c:\\programdata\\anaconda3\\lib\\site-packages (from jupyterlab-server<3,>=2.22.1->notebook>=4.4.1->widgetsnbextension~=3.5.0->ipywidgets>=7.6.5->pycaret) (2.11.0)\n",
      "Requirement already satisfied: json5>=0.9.0 in c:\\programdata\\anaconda3\\lib\\site-packages (from jupyterlab-server<3,>=2.22.1->notebook>=4.4.1->widgetsnbextension~=3.5.0->ipywidgets>=7.6.5->pycaret) (0.9.6)\n",
      "Requirement already satisfied: sniffio>=1.1 in c:\\programdata\\anaconda3\\lib\\site-packages (from anyio>=3.1.0->jupyter-server<3,>=2.4.0->notebook>=4.4.1->widgetsnbextension~=3.5.0->ipywidgets>=7.6.5->pycaret) (1.3.0)\n",
      "Requirement already satisfied: python-json-logger>=2.0.4 in c:\\programdata\\anaconda3\\lib\\site-packages (from jupyter-events>=0.6.0->jupyter-server<3,>=2.4.0->notebook>=4.4.1->widgetsnbextension~=3.5.0->ipywidgets>=7.6.5->pycaret) (2.0.7)\n",
      "Requirement already satisfied: pyyaml>=5.3 in c:\\programdata\\anaconda3\\lib\\site-packages (from jupyter-events>=0.6.0->jupyter-server<3,>=2.4.0->notebook>=4.4.1->widgetsnbextension~=3.5.0->ipywidgets>=7.6.5->pycaret) (6.0.1)\n",
      "Requirement already satisfied: rfc3339-validator in c:\\programdata\\anaconda3\\lib\\site-packages (from jupyter-events>=0.6.0->jupyter-server<3,>=2.4.0->notebook>=4.4.1->widgetsnbextension~=3.5.0->ipywidgets>=7.6.5->pycaret) (0.1.4)\n",
      "Requirement already satisfied: rfc3986-validator>=0.1.1 in c:\\programdata\\anaconda3\\lib\\site-packages (from jupyter-events>=0.6.0->jupyter-server<3,>=2.4.0->notebook>=4.4.1->widgetsnbextension~=3.5.0->ipywidgets>=7.6.5->pycaret) (0.1.1)\n",
      "Requirement already satisfied: beautifulsoup4 in c:\\programdata\\anaconda3\\lib\\site-packages (from nbconvert>=6.4.4->jupyter-server<3,>=2.4.0->notebook>=4.4.1->widgetsnbextension~=3.5.0->ipywidgets>=7.6.5->pycaret) (4.12.2)\n",
      "Requirement already satisfied: bleach!=5.0.0 in c:\\programdata\\anaconda3\\lib\\site-packages (from nbconvert>=6.4.4->jupyter-server<3,>=2.4.0->notebook>=4.4.1->widgetsnbextension~=3.5.0->ipywidgets>=7.6.5->pycaret) (4.1.0)\n",
      "Requirement already satisfied: defusedxml in c:\\programdata\\anaconda3\\lib\\site-packages (from nbconvert>=6.4.4->jupyter-server<3,>=2.4.0->notebook>=4.4.1->widgetsnbextension~=3.5.0->ipywidgets>=7.6.5->pycaret) (0.7.1)\n",
      "Requirement already satisfied: jupyterlab-pygments in c:\\programdata\\anaconda3\\lib\\site-packages (from nbconvert>=6.4.4->jupyter-server<3,>=2.4.0->notebook>=4.4.1->widgetsnbextension~=3.5.0->ipywidgets>=7.6.5->pycaret) (0.1.2)\n",
      "Requirement already satisfied: mistune<4,>=2.0.3 in c:\\programdata\\anaconda3\\lib\\site-packages (from nbconvert>=6.4.4->jupyter-server<3,>=2.4.0->notebook>=4.4.1->widgetsnbextension~=3.5.0->ipywidgets>=7.6.5->pycaret) (2.0.4)\n",
      "Requirement already satisfied: nbclient>=0.5.0 in c:\\programdata\\anaconda3\\lib\\site-packages (from nbconvert>=6.4.4->jupyter-server<3,>=2.4.0->notebook>=4.4.1->widgetsnbextension~=3.5.0->ipywidgets>=7.6.5->pycaret) (0.8.0)\n",
      "Requirement already satisfied: pandocfilters>=1.4.1 in c:\\programdata\\anaconda3\\lib\\site-packages (from nbconvert>=6.4.4->jupyter-server<3,>=2.4.0->notebook>=4.4.1->widgetsnbextension~=3.5.0->ipywidgets>=7.6.5->pycaret) (1.5.0)\n",
      "Requirement already satisfied: tinycss2 in c:\\programdata\\anaconda3\\lib\\site-packages (from nbconvert>=6.4.4->jupyter-server<3,>=2.4.0->notebook>=4.4.1->widgetsnbextension~=3.5.0->ipywidgets>=7.6.5->pycaret) (1.2.1)\n",
      "Requirement already satisfied: argon2-cffi-bindings in c:\\programdata\\anaconda3\\lib\\site-packages (from argon2-cffi->jupyter-server<3,>=2.4.0->notebook>=4.4.1->widgetsnbextension~=3.5.0->ipywidgets>=7.6.5->pycaret) (21.2.0)\n",
      "Requirement already satisfied: webencodings in c:\\programdata\\anaconda3\\lib\\site-packages (from bleach!=5.0.0->nbconvert>=6.4.4->jupyter-server<3,>=2.4.0->notebook>=4.4.1->widgetsnbextension~=3.5.0->ipywidgets>=7.6.5->pycaret) (0.5.1)\n",
      "Requirement already satisfied: fqdn in c:\\users\\91945\\appdata\\roaming\\python\\python311\\site-packages (from jsonschema[format-nongpl]>=4.18.0->jupyter-events>=0.6.0->jupyter-server<3,>=2.4.0->notebook>=4.4.1->widgetsnbextension~=3.5.0->ipywidgets>=7.6.5->pycaret) (1.5.1)\n",
      "Requirement already satisfied: isoduration in c:\\users\\91945\\appdata\\roaming\\python\\python311\\site-packages (from jsonschema[format-nongpl]>=4.18.0->jupyter-events>=0.6.0->jupyter-server<3,>=2.4.0->notebook>=4.4.1->widgetsnbextension~=3.5.0->ipywidgets>=7.6.5->pycaret) (20.11.0)\n",
      "Requirement already satisfied: jsonpointer>1.13 in c:\\programdata\\anaconda3\\lib\\site-packages (from jsonschema[format-nongpl]>=4.18.0->jupyter-events>=0.6.0->jupyter-server<3,>=2.4.0->notebook>=4.4.1->widgetsnbextension~=3.5.0->ipywidgets>=7.6.5->pycaret) (2.1)\n",
      "Requirement already satisfied: uri-template in c:\\users\\91945\\appdata\\roaming\\python\\python311\\site-packages (from jsonschema[format-nongpl]>=4.18.0->jupyter-events>=0.6.0->jupyter-server<3,>=2.4.0->notebook>=4.4.1->widgetsnbextension~=3.5.0->ipywidgets>=7.6.5->pycaret) (1.3.0)\n",
      "Requirement already satisfied: webcolors>=1.11 in c:\\users\\91945\\appdata\\roaming\\python\\python311\\site-packages (from jsonschema[format-nongpl]>=4.18.0->jupyter-events>=0.6.0->jupyter-server<3,>=2.4.0->notebook>=4.4.1->widgetsnbextension~=3.5.0->ipywidgets>=7.6.5->pycaret) (1.13)\n",
      "Requirement already satisfied: cffi>=1.0.1 in c:\\programdata\\anaconda3\\lib\\site-packages (from argon2-cffi-bindings->argon2-cffi->jupyter-server<3,>=2.4.0->notebook>=4.4.1->widgetsnbextension~=3.5.0->ipywidgets>=7.6.5->pycaret) (1.16.0)\n",
      "Requirement already satisfied: soupsieve>1.2 in c:\\programdata\\anaconda3\\lib\\site-packages (from beautifulsoup4->nbconvert>=6.4.4->jupyter-server<3,>=2.4.0->notebook>=4.4.1->widgetsnbextension~=3.5.0->ipywidgets>=7.6.5->pycaret) (2.5)\n",
      "Requirement already satisfied: pycparser in c:\\programdata\\anaconda3\\lib\\site-packages (from cffi>=1.0.1->argon2-cffi-bindings->argon2-cffi->jupyter-server<3,>=2.4.0->notebook>=4.4.1->widgetsnbextension~=3.5.0->ipywidgets>=7.6.5->pycaret) (2.21)\n",
      "Requirement already satisfied: arrow>=0.15.0 in c:\\programdata\\anaconda3\\lib\\site-packages (from isoduration->jsonschema[format-nongpl]>=4.18.0->jupyter-events>=0.6.0->jupyter-server<3,>=2.4.0->notebook>=4.4.1->widgetsnbextension~=3.5.0->ipywidgets>=7.6.5->pycaret) (1.2.3)\n",
      "Note: you may need to restart the kernel to use updated packages.\n"
     ]
    }
   ],
   "source": [
    "pip install pycaret"
   ]
  },
  {
   "cell_type": "code",
   "execution_count": 89,
   "id": "444853c8-bc8e-419f-92c5-a63ead72faf0",
   "metadata": {},
   "outputs": [
    {
     "name": "stdout",
     "output_type": "stream",
     "text": [
      "Defaulting to user installation because normal site-packages is not writeable\n",
      "Requirement already satisfied: eli5 in c:\\users\\91945\\appdata\\roaming\\python\\python311\\site-packages (0.13.0)\n",
      "Requirement already satisfied: attrs>17.1.0 in c:\\programdata\\anaconda3\\lib\\site-packages (from eli5) (23.1.0)\n",
      "Requirement already satisfied: jinja2>=3.0.0 in c:\\programdata\\anaconda3\\lib\\site-packages (from eli5) (3.1.3)\n",
      "Requirement already satisfied: numpy>=1.9.0 in c:\\programdata\\anaconda3\\lib\\site-packages (from eli5) (1.26.4)\n",
      "Requirement already satisfied: scipy in c:\\programdata\\anaconda3\\lib\\site-packages (from eli5) (1.11.4)\n",
      "Requirement already satisfied: six in c:\\programdata\\anaconda3\\lib\\site-packages (from eli5) (1.16.0)\n",
      "Requirement already satisfied: scikit-learn>=0.20 in c:\\users\\91945\\appdata\\roaming\\python\\python311\\site-packages (from eli5) (1.4.2)\n",
      "Requirement already satisfied: graphviz in c:\\users\\91945\\appdata\\roaming\\python\\python311\\site-packages (from eli5) (0.20.3)\n",
      "Requirement already satisfied: tabulate>=0.7.7 in c:\\programdata\\anaconda3\\lib\\site-packages (from eli5) (0.9.0)\n",
      "Requirement already satisfied: MarkupSafe>=2.0 in c:\\programdata\\anaconda3\\lib\\site-packages (from jinja2>=3.0.0->eli5) (2.1.3)\n",
      "Requirement already satisfied: joblib>=1.2.0 in c:\\programdata\\anaconda3\\lib\\site-packages (from scikit-learn>=0.20->eli5) (1.2.0)\n",
      "Requirement already satisfied: threadpoolctl>=2.0.0 in c:\\programdata\\anaconda3\\lib\\site-packages (from scikit-learn>=0.20->eli5) (2.2.0)\n",
      "Note: you may need to restart the kernel to use updated packages.\n"
     ]
    }
   ],
   "source": [
    "pip install eli5"
   ]
  },
  {
   "cell_type": "code",
   "execution_count": 90,
   "id": "bd7be36f-9791-419c-8da4-fc64b212a957",
   "metadata": {},
   "outputs": [
    {
     "data": {
      "text/html": [
       "<style type=\"text/css\">\n",
       "#T_05970_row8_col1 {\n",
       "  background-color: lightgreen;\n",
       "}\n",
       "</style>\n",
       "<table id=\"T_05970\">\n",
       "  <thead>\n",
       "    <tr>\n",
       "      <th class=\"blank level0\" >&nbsp;</th>\n",
       "      <th id=\"T_05970_level0_col0\" class=\"col_heading level0 col0\" >Description</th>\n",
       "      <th id=\"T_05970_level0_col1\" class=\"col_heading level0 col1\" >Value</th>\n",
       "    </tr>\n",
       "  </thead>\n",
       "  <tbody>\n",
       "    <tr>\n",
       "      <th id=\"T_05970_level0_row0\" class=\"row_heading level0 row0\" >0</th>\n",
       "      <td id=\"T_05970_row0_col0\" class=\"data row0 col0\" >Session id</td>\n",
       "      <td id=\"T_05970_row0_col1\" class=\"data row0 col1\" >2876</td>\n",
       "    </tr>\n",
       "    <tr>\n",
       "      <th id=\"T_05970_level0_row1\" class=\"row_heading level0 row1\" >1</th>\n",
       "      <td id=\"T_05970_row1_col0\" class=\"data row1 col0\" >Target</td>\n",
       "      <td id=\"T_05970_row1_col1\" class=\"data row1 col1\" >has_covid_encoded</td>\n",
       "    </tr>\n",
       "    <tr>\n",
       "      <th id=\"T_05970_level0_row2\" class=\"row_heading level0 row2\" >2</th>\n",
       "      <td id=\"T_05970_row2_col0\" class=\"data row2 col0\" >Target type</td>\n",
       "      <td id=\"T_05970_row2_col1\" class=\"data row2 col1\" >Regression</td>\n",
       "    </tr>\n",
       "    <tr>\n",
       "      <th id=\"T_05970_level0_row3\" class=\"row_heading level0 row3\" >3</th>\n",
       "      <td id=\"T_05970_row3_col0\" class=\"data row3 col0\" >Original data shape</td>\n",
       "      <td id=\"T_05970_row3_col1\" class=\"data row3 col1\" >(100, 6)</td>\n",
       "    </tr>\n",
       "    <tr>\n",
       "      <th id=\"T_05970_level0_row4\" class=\"row_heading level0 row4\" >4</th>\n",
       "      <td id=\"T_05970_row4_col0\" class=\"data row4 col0\" >Transformed data shape</td>\n",
       "      <td id=\"T_05970_row4_col1\" class=\"data row4 col1\" >(100, 6)</td>\n",
       "    </tr>\n",
       "    <tr>\n",
       "      <th id=\"T_05970_level0_row5\" class=\"row_heading level0 row5\" >5</th>\n",
       "      <td id=\"T_05970_row5_col0\" class=\"data row5 col0\" >Transformed train set shape</td>\n",
       "      <td id=\"T_05970_row5_col1\" class=\"data row5 col1\" >(70, 6)</td>\n",
       "    </tr>\n",
       "    <tr>\n",
       "      <th id=\"T_05970_level0_row6\" class=\"row_heading level0 row6\" >6</th>\n",
       "      <td id=\"T_05970_row6_col0\" class=\"data row6 col0\" >Transformed test set shape</td>\n",
       "      <td id=\"T_05970_row6_col1\" class=\"data row6 col1\" >(30, 6)</td>\n",
       "    </tr>\n",
       "    <tr>\n",
       "      <th id=\"T_05970_level0_row7\" class=\"row_heading level0 row7\" >7</th>\n",
       "      <td id=\"T_05970_row7_col0\" class=\"data row7 col0\" >Numeric features</td>\n",
       "      <td id=\"T_05970_row7_col1\" class=\"data row7 col1\" >5</td>\n",
       "    </tr>\n",
       "    <tr>\n",
       "      <th id=\"T_05970_level0_row8\" class=\"row_heading level0 row8\" >8</th>\n",
       "      <td id=\"T_05970_row8_col0\" class=\"data row8 col0\" >Preprocess</td>\n",
       "      <td id=\"T_05970_row8_col1\" class=\"data row8 col1\" >True</td>\n",
       "    </tr>\n",
       "    <tr>\n",
       "      <th id=\"T_05970_level0_row9\" class=\"row_heading level0 row9\" >9</th>\n",
       "      <td id=\"T_05970_row9_col0\" class=\"data row9 col0\" >Imputation type</td>\n",
       "      <td id=\"T_05970_row9_col1\" class=\"data row9 col1\" >simple</td>\n",
       "    </tr>\n",
       "    <tr>\n",
       "      <th id=\"T_05970_level0_row10\" class=\"row_heading level0 row10\" >10</th>\n",
       "      <td id=\"T_05970_row10_col0\" class=\"data row10 col0\" >Numeric imputation</td>\n",
       "      <td id=\"T_05970_row10_col1\" class=\"data row10 col1\" >mean</td>\n",
       "    </tr>\n",
       "    <tr>\n",
       "      <th id=\"T_05970_level0_row11\" class=\"row_heading level0 row11\" >11</th>\n",
       "      <td id=\"T_05970_row11_col0\" class=\"data row11 col0\" >Categorical imputation</td>\n",
       "      <td id=\"T_05970_row11_col1\" class=\"data row11 col1\" >mode</td>\n",
       "    </tr>\n",
       "    <tr>\n",
       "      <th id=\"T_05970_level0_row12\" class=\"row_heading level0 row12\" >12</th>\n",
       "      <td id=\"T_05970_row12_col0\" class=\"data row12 col0\" >Fold Generator</td>\n",
       "      <td id=\"T_05970_row12_col1\" class=\"data row12 col1\" >KFold</td>\n",
       "    </tr>\n",
       "    <tr>\n",
       "      <th id=\"T_05970_level0_row13\" class=\"row_heading level0 row13\" >13</th>\n",
       "      <td id=\"T_05970_row13_col0\" class=\"data row13 col0\" >Fold Number</td>\n",
       "      <td id=\"T_05970_row13_col1\" class=\"data row13 col1\" >10</td>\n",
       "    </tr>\n",
       "    <tr>\n",
       "      <th id=\"T_05970_level0_row14\" class=\"row_heading level0 row14\" >14</th>\n",
       "      <td id=\"T_05970_row14_col0\" class=\"data row14 col0\" >CPU Jobs</td>\n",
       "      <td id=\"T_05970_row14_col1\" class=\"data row14 col1\" >-1</td>\n",
       "    </tr>\n",
       "    <tr>\n",
       "      <th id=\"T_05970_level0_row15\" class=\"row_heading level0 row15\" >15</th>\n",
       "      <td id=\"T_05970_row15_col0\" class=\"data row15 col0\" >Use GPU</td>\n",
       "      <td id=\"T_05970_row15_col1\" class=\"data row15 col1\" >False</td>\n",
       "    </tr>\n",
       "    <tr>\n",
       "      <th id=\"T_05970_level0_row16\" class=\"row_heading level0 row16\" >16</th>\n",
       "      <td id=\"T_05970_row16_col0\" class=\"data row16 col0\" >Log Experiment</td>\n",
       "      <td id=\"T_05970_row16_col1\" class=\"data row16 col1\" >False</td>\n",
       "    </tr>\n",
       "    <tr>\n",
       "      <th id=\"T_05970_level0_row17\" class=\"row_heading level0 row17\" >17</th>\n",
       "      <td id=\"T_05970_row17_col0\" class=\"data row17 col0\" >Experiment Name</td>\n",
       "      <td id=\"T_05970_row17_col1\" class=\"data row17 col1\" >reg-default-name</td>\n",
       "    </tr>\n",
       "    <tr>\n",
       "      <th id=\"T_05970_level0_row18\" class=\"row_heading level0 row18\" >18</th>\n",
       "      <td id=\"T_05970_row18_col0\" class=\"data row18 col0\" >USI</td>\n",
       "      <td id=\"T_05970_row18_col1\" class=\"data row18 col1\" >63d7</td>\n",
       "    </tr>\n",
       "  </tbody>\n",
       "</table>\n"
      ],
      "text/plain": [
       "<pandas.io.formats.style.Styler at 0x225d2e70310>"
      ]
     },
     "metadata": {},
     "output_type": "display_data"
    }
   ],
   "source": [
    "from pycaret.regression import *\n",
    "s=setup(data=df,target='has_covid_encoded')"
   ]
  },
  {
   "cell_type": "code",
   "execution_count": 91,
   "id": "27b26d2b-8c3a-4873-9474-f8ad1239f6a0",
   "metadata": {},
   "outputs": [
    {
     "data": {
      "text/html": [],
      "text/plain": [
       "<IPython.core.display.HTML object>"
      ]
     },
     "metadata": {},
     "output_type": "display_data"
    },
    {
     "data": {
      "text/html": [
       "<style type=\"text/css\">\n",
       "#T_11d3f th {\n",
       "  text-align: left;\n",
       "}\n",
       "#T_11d3f_row0_col0, #T_11d3f_row0_col1, #T_11d3f_row1_col0, #T_11d3f_row1_col1, #T_11d3f_row2_col0, #T_11d3f_row2_col1, #T_11d3f_row3_col0, #T_11d3f_row3_col1, #T_11d3f_row3_col2, #T_11d3f_row3_col3, #T_11d3f_row3_col4, #T_11d3f_row3_col5, #T_11d3f_row3_col6, #T_11d3f_row4_col0, #T_11d3f_row4_col1, #T_11d3f_row4_col2, #T_11d3f_row4_col3, #T_11d3f_row4_col4, #T_11d3f_row4_col5, #T_11d3f_row4_col6, #T_11d3f_row5_col0, #T_11d3f_row5_col2, #T_11d3f_row5_col3, #T_11d3f_row5_col4, #T_11d3f_row5_col5, #T_11d3f_row5_col6, #T_11d3f_row6_col0, #T_11d3f_row6_col1, #T_11d3f_row6_col2, #T_11d3f_row6_col3, #T_11d3f_row6_col4, #T_11d3f_row6_col5, #T_11d3f_row6_col6, #T_11d3f_row7_col0, #T_11d3f_row7_col1, #T_11d3f_row7_col2, #T_11d3f_row7_col3, #T_11d3f_row7_col4, #T_11d3f_row7_col5, #T_11d3f_row7_col6, #T_11d3f_row8_col0, #T_11d3f_row8_col1, #T_11d3f_row8_col2, #T_11d3f_row8_col3, #T_11d3f_row8_col4, #T_11d3f_row8_col5, #T_11d3f_row8_col6, #T_11d3f_row9_col0, #T_11d3f_row9_col1, #T_11d3f_row9_col2, #T_11d3f_row9_col3, #T_11d3f_row9_col4, #T_11d3f_row9_col5, #T_11d3f_row9_col6, #T_11d3f_row10_col0, #T_11d3f_row10_col1, #T_11d3f_row10_col2, #T_11d3f_row10_col3, #T_11d3f_row10_col4, #T_11d3f_row10_col5, #T_11d3f_row10_col6, #T_11d3f_row11_col0, #T_11d3f_row11_col1, #T_11d3f_row11_col2, #T_11d3f_row11_col3, #T_11d3f_row11_col4, #T_11d3f_row11_col5, #T_11d3f_row11_col6, #T_11d3f_row12_col0, #T_11d3f_row12_col1, #T_11d3f_row12_col2, #T_11d3f_row12_col3, #T_11d3f_row12_col4, #T_11d3f_row12_col5, #T_11d3f_row12_col6, #T_11d3f_row13_col0, #T_11d3f_row13_col1, #T_11d3f_row13_col2, #T_11d3f_row13_col3, #T_11d3f_row13_col4, #T_11d3f_row13_col5, #T_11d3f_row13_col6, #T_11d3f_row14_col0, #T_11d3f_row14_col1, #T_11d3f_row14_col2, #T_11d3f_row14_col3, #T_11d3f_row14_col4, #T_11d3f_row14_col5, #T_11d3f_row14_col6, #T_11d3f_row15_col0, #T_11d3f_row15_col1, #T_11d3f_row15_col2, #T_11d3f_row15_col3, #T_11d3f_row15_col4, #T_11d3f_row15_col5, #T_11d3f_row15_col6, #T_11d3f_row16_col0, #T_11d3f_row16_col1, #T_11d3f_row16_col2, #T_11d3f_row16_col3, #T_11d3f_row16_col4, #T_11d3f_row16_col5, #T_11d3f_row16_col6, #T_11d3f_row17_col0, #T_11d3f_row17_col1, #T_11d3f_row17_col2, #T_11d3f_row17_col3, #T_11d3f_row17_col4, #T_11d3f_row17_col5, #T_11d3f_row17_col6 {\n",
       "  text-align: left;\n",
       "}\n",
       "#T_11d3f_row0_col2, #T_11d3f_row0_col3, #T_11d3f_row0_col4, #T_11d3f_row0_col5, #T_11d3f_row0_col6, #T_11d3f_row1_col2, #T_11d3f_row1_col3, #T_11d3f_row1_col4, #T_11d3f_row1_col5, #T_11d3f_row1_col6, #T_11d3f_row2_col2, #T_11d3f_row2_col3, #T_11d3f_row2_col4, #T_11d3f_row2_col5, #T_11d3f_row2_col6, #T_11d3f_row5_col1 {\n",
       "  text-align: left;\n",
       "  background-color: yellow;\n",
       "}\n",
       "#T_11d3f_row0_col7, #T_11d3f_row1_col7, #T_11d3f_row3_col7, #T_11d3f_row4_col7, #T_11d3f_row8_col7, #T_11d3f_row9_col7, #T_11d3f_row10_col7, #T_11d3f_row11_col7, #T_11d3f_row12_col7, #T_11d3f_row13_col7, #T_11d3f_row14_col7, #T_11d3f_row15_col7, #T_11d3f_row16_col7, #T_11d3f_row17_col7 {\n",
       "  text-align: left;\n",
       "  background-color: lightgrey;\n",
       "}\n",
       "#T_11d3f_row2_col7, #T_11d3f_row5_col7, #T_11d3f_row6_col7, #T_11d3f_row7_col7 {\n",
       "  text-align: left;\n",
       "  background-color: yellow;\n",
       "  background-color: lightgrey;\n",
       "}\n",
       "</style>\n",
       "<table id=\"T_11d3f\">\n",
       "  <thead>\n",
       "    <tr>\n",
       "      <th class=\"blank level0\" >&nbsp;</th>\n",
       "      <th id=\"T_11d3f_level0_col0\" class=\"col_heading level0 col0\" >Model</th>\n",
       "      <th id=\"T_11d3f_level0_col1\" class=\"col_heading level0 col1\" >MAE</th>\n",
       "      <th id=\"T_11d3f_level0_col2\" class=\"col_heading level0 col2\" >MSE</th>\n",
       "      <th id=\"T_11d3f_level0_col3\" class=\"col_heading level0 col3\" >RMSE</th>\n",
       "      <th id=\"T_11d3f_level0_col4\" class=\"col_heading level0 col4\" >R2</th>\n",
       "      <th id=\"T_11d3f_level0_col5\" class=\"col_heading level0 col5\" >RMSLE</th>\n",
       "      <th id=\"T_11d3f_level0_col6\" class=\"col_heading level0 col6\" >MAPE</th>\n",
       "      <th id=\"T_11d3f_level0_col7\" class=\"col_heading level0 col7\" >TT (Sec)</th>\n",
       "    </tr>\n",
       "  </thead>\n",
       "  <tbody>\n",
       "    <tr>\n",
       "      <th id=\"T_11d3f_level0_row0\" class=\"row_heading level0 row0\" >lasso</th>\n",
       "      <td id=\"T_11d3f_row0_col0\" class=\"data row0 col0\" >Lasso Regression</td>\n",
       "      <td id=\"T_11d3f_row0_col1\" class=\"data row0 col1\" >0.4989</td>\n",
       "      <td id=\"T_11d3f_row0_col2\" class=\"data row0 col2\" >0.2545</td>\n",
       "      <td id=\"T_11d3f_row0_col3\" class=\"data row0 col3\" >0.5036</td>\n",
       "      <td id=\"T_11d3f_row0_col4\" class=\"data row0 col4\" >-0.3086</td>\n",
       "      <td id=\"T_11d3f_row0_col5\" class=\"data row0 col5\" >0.3547</td>\n",
       "      <td id=\"T_11d3f_row0_col6\" class=\"data row0 col6\" >0.5714</td>\n",
       "      <td id=\"T_11d3f_row0_col7\" class=\"data row0 col7\" >0.0080</td>\n",
       "    </tr>\n",
       "    <tr>\n",
       "      <th id=\"T_11d3f_level0_row1\" class=\"row_heading level0 row1\" >llar</th>\n",
       "      <td id=\"T_11d3f_row1_col0\" class=\"data row1 col0\" >Lasso Least Angle Regression</td>\n",
       "      <td id=\"T_11d3f_row1_col1\" class=\"data row1 col1\" >0.4989</td>\n",
       "      <td id=\"T_11d3f_row1_col2\" class=\"data row1 col2\" >0.2545</td>\n",
       "      <td id=\"T_11d3f_row1_col3\" class=\"data row1 col3\" >0.5036</td>\n",
       "      <td id=\"T_11d3f_row1_col4\" class=\"data row1 col4\" >-0.3086</td>\n",
       "      <td id=\"T_11d3f_row1_col5\" class=\"data row1 col5\" >0.3547</td>\n",
       "      <td id=\"T_11d3f_row1_col6\" class=\"data row1 col6\" >0.5714</td>\n",
       "      <td id=\"T_11d3f_row1_col7\" class=\"data row1 col7\" >0.0090</td>\n",
       "    </tr>\n",
       "    <tr>\n",
       "      <th id=\"T_11d3f_level0_row2\" class=\"row_heading level0 row2\" >dummy</th>\n",
       "      <td id=\"T_11d3f_row2_col0\" class=\"data row2 col0\" >Dummy Regressor</td>\n",
       "      <td id=\"T_11d3f_row2_col1\" class=\"data row2 col1\" >0.4989</td>\n",
       "      <td id=\"T_11d3f_row2_col2\" class=\"data row2 col2\" >0.2545</td>\n",
       "      <td id=\"T_11d3f_row2_col3\" class=\"data row2 col3\" >0.5036</td>\n",
       "      <td id=\"T_11d3f_row2_col4\" class=\"data row2 col4\" >-0.3086</td>\n",
       "      <td id=\"T_11d3f_row2_col5\" class=\"data row2 col5\" >0.3547</td>\n",
       "      <td id=\"T_11d3f_row2_col6\" class=\"data row2 col6\" >0.5714</td>\n",
       "      <td id=\"T_11d3f_row2_col7\" class=\"data row2 col7\" >0.0070</td>\n",
       "    </tr>\n",
       "    <tr>\n",
       "      <th id=\"T_11d3f_level0_row3\" class=\"row_heading level0 row3\" >en</th>\n",
       "      <td id=\"T_11d3f_row3_col0\" class=\"data row3 col0\" >Elastic Net</td>\n",
       "      <td id=\"T_11d3f_row3_col1\" class=\"data row3 col1\" >0.4994</td>\n",
       "      <td id=\"T_11d3f_row3_col2\" class=\"data row3 col2\" >0.2552</td>\n",
       "      <td id=\"T_11d3f_row3_col3\" class=\"data row3 col3\" >0.5044</td>\n",
       "      <td id=\"T_11d3f_row3_col4\" class=\"data row3 col4\" >-0.3129</td>\n",
       "      <td id=\"T_11d3f_row3_col5\" class=\"data row3 col5\" >0.3551</td>\n",
       "      <td id=\"T_11d3f_row3_col6\" class=\"data row3 col6\" >0.5752</td>\n",
       "      <td id=\"T_11d3f_row3_col7\" class=\"data row3 col7\" >0.0080</td>\n",
       "    </tr>\n",
       "    <tr>\n",
       "      <th id=\"T_11d3f_level0_row4\" class=\"row_heading level0 row4\" >br</th>\n",
       "      <td id=\"T_11d3f_row4_col0\" class=\"data row4 col0\" >Bayesian Ridge</td>\n",
       "      <td id=\"T_11d3f_row4_col1\" class=\"data row4 col1\" >0.4996</td>\n",
       "      <td id=\"T_11d3f_row4_col2\" class=\"data row4 col2\" >0.2553</td>\n",
       "      <td id=\"T_11d3f_row4_col3\" class=\"data row4 col3\" >0.5045</td>\n",
       "      <td id=\"T_11d3f_row4_col4\" class=\"data row4 col4\" >-0.3137</td>\n",
       "      <td id=\"T_11d3f_row4_col5\" class=\"data row4 col5\" >0.3552</td>\n",
       "      <td id=\"T_11d3f_row4_col6\" class=\"data row4 col6\" >0.5755</td>\n",
       "      <td id=\"T_11d3f_row4_col7\" class=\"data row4 col7\" >0.0080</td>\n",
       "    </tr>\n",
       "    <tr>\n",
       "      <th id=\"T_11d3f_level0_row5\" class=\"row_heading level0 row5\" >omp</th>\n",
       "      <td id=\"T_11d3f_row5_col0\" class=\"data row5 col0\" >Orthogonal Matching Pursuit</td>\n",
       "      <td id=\"T_11d3f_row5_col1\" class=\"data row5 col1\" >0.4978</td>\n",
       "      <td id=\"T_11d3f_row5_col2\" class=\"data row5 col2\" >0.2583</td>\n",
       "      <td id=\"T_11d3f_row5_col3\" class=\"data row5 col3\" >0.5072</td>\n",
       "      <td id=\"T_11d3f_row5_col4\" class=\"data row5 col4\" >-0.3568</td>\n",
       "      <td id=\"T_11d3f_row5_col5\" class=\"data row5 col5\" >0.3558</td>\n",
       "      <td id=\"T_11d3f_row5_col6\" class=\"data row5 col6\" >0.5889</td>\n",
       "      <td id=\"T_11d3f_row5_col7\" class=\"data row5 col7\" >0.0070</td>\n",
       "    </tr>\n",
       "    <tr>\n",
       "      <th id=\"T_11d3f_level0_row6\" class=\"row_heading level0 row6\" >ridge</th>\n",
       "      <td id=\"T_11d3f_row6_col0\" class=\"data row6 col0\" >Ridge Regression</td>\n",
       "      <td id=\"T_11d3f_row6_col1\" class=\"data row6 col1\" >0.4981</td>\n",
       "      <td id=\"T_11d3f_row6_col2\" class=\"data row6 col2\" >0.2676</td>\n",
       "      <td id=\"T_11d3f_row6_col3\" class=\"data row6 col3\" >0.5164</td>\n",
       "      <td id=\"T_11d3f_row6_col4\" class=\"data row6 col4\" >-0.3944</td>\n",
       "      <td id=\"T_11d3f_row6_col5\" class=\"data row6 col5\" >0.3627</td>\n",
       "      <td id=\"T_11d3f_row6_col6\" class=\"data row6 col6\" >0.5855</td>\n",
       "      <td id=\"T_11d3f_row6_col7\" class=\"data row6 col7\" >0.0070</td>\n",
       "    </tr>\n",
       "    <tr>\n",
       "      <th id=\"T_11d3f_level0_row7\" class=\"row_heading level0 row7\" >lr</th>\n",
       "      <td id=\"T_11d3f_row7_col0\" class=\"data row7 col0\" >Linear Regression</td>\n",
       "      <td id=\"T_11d3f_row7_col1\" class=\"data row7 col1\" >0.4986</td>\n",
       "      <td id=\"T_11d3f_row7_col2\" class=\"data row7 col2\" >0.2689</td>\n",
       "      <td id=\"T_11d3f_row7_col3\" class=\"data row7 col3\" >0.5176</td>\n",
       "      <td id=\"T_11d3f_row7_col4\" class=\"data row7 col4\" >-0.4007</td>\n",
       "      <td id=\"T_11d3f_row7_col5\" class=\"data row7 col5\" >0.3636</td>\n",
       "      <td id=\"T_11d3f_row7_col6\" class=\"data row7 col6\" >0.5863</td>\n",
       "      <td id=\"T_11d3f_row7_col7\" class=\"data row7 col7\" >0.0070</td>\n",
       "    </tr>\n",
       "    <tr>\n",
       "      <th id=\"T_11d3f_level0_row8\" class=\"row_heading level0 row8\" >lar</th>\n",
       "      <td id=\"T_11d3f_row8_col0\" class=\"data row8 col0\" >Least Angle Regression</td>\n",
       "      <td id=\"T_11d3f_row8_col1\" class=\"data row8 col1\" >0.4986</td>\n",
       "      <td id=\"T_11d3f_row8_col2\" class=\"data row8 col2\" >0.2689</td>\n",
       "      <td id=\"T_11d3f_row8_col3\" class=\"data row8 col3\" >0.5176</td>\n",
       "      <td id=\"T_11d3f_row8_col4\" class=\"data row8 col4\" >-0.4007</td>\n",
       "      <td id=\"T_11d3f_row8_col5\" class=\"data row8 col5\" >0.3636</td>\n",
       "      <td id=\"T_11d3f_row8_col6\" class=\"data row8 col6\" >0.5863</td>\n",
       "      <td id=\"T_11d3f_row8_col7\" class=\"data row8 col7\" >0.0110</td>\n",
       "    </tr>\n",
       "    <tr>\n",
       "      <th id=\"T_11d3f_level0_row9\" class=\"row_heading level0 row9\" >huber</th>\n",
       "      <td id=\"T_11d3f_row9_col0\" class=\"data row9 col0\" >Huber Regressor</td>\n",
       "      <td id=\"T_11d3f_row9_col1\" class=\"data row9 col1\" >0.5039</td>\n",
       "      <td id=\"T_11d3f_row9_col2\" class=\"data row9 col2\" >0.2750</td>\n",
       "      <td id=\"T_11d3f_row9_col3\" class=\"data row9 col3\" >0.5233</td>\n",
       "      <td id=\"T_11d3f_row9_col4\" class=\"data row9 col4\" >-0.4303</td>\n",
       "      <td id=\"T_11d3f_row9_col5\" class=\"data row9 col5\" >0.3678</td>\n",
       "      <td id=\"T_11d3f_row9_col6\" class=\"data row9 col6\" >0.5975</td>\n",
       "      <td id=\"T_11d3f_row9_col7\" class=\"data row9 col7\" >0.0120</td>\n",
       "    </tr>\n",
       "    <tr>\n",
       "      <th id=\"T_11d3f_level0_row10\" class=\"row_heading level0 row10\" >lightgbm</th>\n",
       "      <td id=\"T_11d3f_row10_col0\" class=\"data row10 col0\" >Light Gradient Boosting Machine</td>\n",
       "      <td id=\"T_11d3f_row10_col1\" class=\"data row10 col1\" >0.5140</td>\n",
       "      <td id=\"T_11d3f_row10_col2\" class=\"data row10 col2\" >0.2857</td>\n",
       "      <td id=\"T_11d3f_row10_col3\" class=\"data row10 col3\" >0.5335</td>\n",
       "      <td id=\"T_11d3f_row10_col4\" class=\"data row10 col4\" >-0.4925</td>\n",
       "      <td id=\"T_11d3f_row10_col5\" class=\"data row10 col5\" >0.3749</td>\n",
       "      <td id=\"T_11d3f_row10_col6\" class=\"data row10 col6\" >0.5943</td>\n",
       "      <td id=\"T_11d3f_row10_col7\" class=\"data row10 col7\" >0.0240</td>\n",
       "    </tr>\n",
       "    <tr>\n",
       "      <th id=\"T_11d3f_level0_row11\" class=\"row_heading level0 row11\" >ada</th>\n",
       "      <td id=\"T_11d3f_row11_col0\" class=\"data row11 col0\" >AdaBoost Regressor</td>\n",
       "      <td id=\"T_11d3f_row11_col1\" class=\"data row11 col1\" >0.5204</td>\n",
       "      <td id=\"T_11d3f_row11_col2\" class=\"data row11 col2\" >0.2993</td>\n",
       "      <td id=\"T_11d3f_row11_col3\" class=\"data row11 col3\" >0.5443</td>\n",
       "      <td id=\"T_11d3f_row11_col4\" class=\"data row11 col4\" >-0.6209</td>\n",
       "      <td id=\"T_11d3f_row11_col5\" class=\"data row11 col5\" >0.3833</td>\n",
       "      <td id=\"T_11d3f_row11_col6\" class=\"data row11 col6\" >0.5867</td>\n",
       "      <td id=\"T_11d3f_row11_col7\" class=\"data row11 col7\" >0.0170</td>\n",
       "    </tr>\n",
       "    <tr>\n",
       "      <th id=\"T_11d3f_level0_row12\" class=\"row_heading level0 row12\" >knn</th>\n",
       "      <td id=\"T_11d3f_row12_col0\" class=\"data row12 col0\" >K Neighbors Regressor</td>\n",
       "      <td id=\"T_11d3f_row12_col1\" class=\"data row12 col1\" >0.5257</td>\n",
       "      <td id=\"T_11d3f_row12_col2\" class=\"data row12 col2\" >0.3211</td>\n",
       "      <td id=\"T_11d3f_row12_col3\" class=\"data row12 col3\" >0.5584</td>\n",
       "      <td id=\"T_11d3f_row12_col4\" class=\"data row12 col4\" >-0.7561</td>\n",
       "      <td id=\"T_11d3f_row12_col5\" class=\"data row12 col5\" >0.3923</td>\n",
       "      <td id=\"T_11d3f_row12_col6\" class=\"data row12 col6\" >0.6327</td>\n",
       "      <td id=\"T_11d3f_row12_col7\" class=\"data row12 col7\" >0.0090</td>\n",
       "    </tr>\n",
       "    <tr>\n",
       "      <th id=\"T_11d3f_level0_row13\" class=\"row_heading level0 row13\" >rf</th>\n",
       "      <td id=\"T_11d3f_row13_col0\" class=\"data row13 col0\" >Random Forest Regressor</td>\n",
       "      <td id=\"T_11d3f_row13_col1\" class=\"data row13 col1\" >0.5316</td>\n",
       "      <td id=\"T_11d3f_row13_col2\" class=\"data row13 col2\" >0.3292</td>\n",
       "      <td id=\"T_11d3f_row13_col3\" class=\"data row13 col3\" >0.5687</td>\n",
       "      <td id=\"T_11d3f_row13_col4\" class=\"data row13 col4\" >-0.7916</td>\n",
       "      <td id=\"T_11d3f_row13_col5\" class=\"data row13 col5\" >0.3981</td>\n",
       "      <td id=\"T_11d3f_row13_col6\" class=\"data row13 col6\" >0.6404</td>\n",
       "      <td id=\"T_11d3f_row13_col7\" class=\"data row13 col7\" >0.0440</td>\n",
       "    </tr>\n",
       "    <tr>\n",
       "      <th id=\"T_11d3f_level0_row14\" class=\"row_heading level0 row14\" >et</th>\n",
       "      <td id=\"T_11d3f_row14_col0\" class=\"data row14 col0\" >Extra Trees Regressor</td>\n",
       "      <td id=\"T_11d3f_row14_col1\" class=\"data row14 col1\" >0.5027</td>\n",
       "      <td id=\"T_11d3f_row14_col2\" class=\"data row14 col2\" >0.3474</td>\n",
       "      <td id=\"T_11d3f_row14_col3\" class=\"data row14 col3\" >0.5856</td>\n",
       "      <td id=\"T_11d3f_row14_col4\" class=\"data row14 col4\" >-0.8548</td>\n",
       "      <td id=\"T_11d3f_row14_col5\" class=\"data row14 col5\" >0.4061</td>\n",
       "      <td id=\"T_11d3f_row14_col6\" class=\"data row14 col6\" >0.6334</td>\n",
       "      <td id=\"T_11d3f_row14_col7\" class=\"data row14 col7\" >0.0340</td>\n",
       "    </tr>\n",
       "    <tr>\n",
       "      <th id=\"T_11d3f_level0_row15\" class=\"row_heading level0 row15\" >par</th>\n",
       "      <td id=\"T_11d3f_row15_col0\" class=\"data row15 col0\" >Passive Aggressive Regressor</td>\n",
       "      <td id=\"T_11d3f_row15_col1\" class=\"data row15 col1\" >0.5319</td>\n",
       "      <td id=\"T_11d3f_row15_col2\" class=\"data row15 col2\" >0.4657</td>\n",
       "      <td id=\"T_11d3f_row15_col3\" class=\"data row15 col3\" >0.6630</td>\n",
       "      <td id=\"T_11d3f_row15_col4\" class=\"data row15 col4\" >-1.3926</td>\n",
       "      <td id=\"T_11d3f_row15_col5\" class=\"data row15 col5\" >0.4446</td>\n",
       "      <td id=\"T_11d3f_row15_col6\" class=\"data row15 col6\" >0.7537</td>\n",
       "      <td id=\"T_11d3f_row15_col7\" class=\"data row15 col7\" >0.0080</td>\n",
       "    </tr>\n",
       "    <tr>\n",
       "      <th id=\"T_11d3f_level0_row16\" class=\"row_heading level0 row16\" >gbr</th>\n",
       "      <td id=\"T_11d3f_row16_col0\" class=\"data row16 col0\" >Gradient Boosting Regressor</td>\n",
       "      <td id=\"T_11d3f_row16_col1\" class=\"data row16 col1\" >0.5925</td>\n",
       "      <td id=\"T_11d3f_row16_col2\" class=\"data row16 col2\" >0.4664</td>\n",
       "      <td id=\"T_11d3f_row16_col3\" class=\"data row16 col3\" >0.6754</td>\n",
       "      <td id=\"T_11d3f_row16_col4\" class=\"data row16 col4\" >-1.6010</td>\n",
       "      <td id=\"T_11d3f_row16_col5\" class=\"data row16 col5\" >0.4480</td>\n",
       "      <td id=\"T_11d3f_row16_col6\" class=\"data row16 col6\" >0.7054</td>\n",
       "      <td id=\"T_11d3f_row16_col7\" class=\"data row16 col7\" >0.0180</td>\n",
       "    </tr>\n",
       "    <tr>\n",
       "      <th id=\"T_11d3f_level0_row17\" class=\"row_heading level0 row17\" >dt</th>\n",
       "      <td id=\"T_11d3f_row17_col0\" class=\"data row17 col0\" >Decision Tree Regressor</td>\n",
       "      <td id=\"T_11d3f_row17_col1\" class=\"data row17 col1\" >0.5429</td>\n",
       "      <td id=\"T_11d3f_row17_col2\" class=\"data row17 col2\" >0.5429</td>\n",
       "      <td id=\"T_11d3f_row17_col3\" class=\"data row17 col3\" >0.7243</td>\n",
       "      <td id=\"T_11d3f_row17_col4\" class=\"data row17 col4\" >-1.9983</td>\n",
       "      <td id=\"T_11d3f_row17_col5\" class=\"data row17 col5\" >0.5022</td>\n",
       "      <td id=\"T_11d3f_row17_col6\" class=\"data row17 col6\" >0.6650</td>\n",
       "      <td id=\"T_11d3f_row17_col7\" class=\"data row17 col7\" >0.0080</td>\n",
       "    </tr>\n",
       "  </tbody>\n",
       "</table>\n"
      ],
      "text/plain": [
       "<pandas.io.formats.style.Styler at 0x225d2c52550>"
      ]
     },
     "metadata": {},
     "output_type": "display_data"
    },
    {
     "data": {
      "application/vnd.jupyter.widget-view+json": {
       "model_id": "",
       "version_major": 2,
       "version_minor": 0
      },
      "text/plain": [
       "Processing:   0%|          | 0/77 [00:00<?, ?it/s]"
      ]
     },
     "metadata": {},
     "output_type": "display_data"
    }
   ],
   "source": [
    "cm=compare_models()"
   ]
  },
  {
   "cell_type": "code",
   "execution_count": null,
   "id": "f8078f2a-21ae-4303-abc0-9e3f4d170221",
   "metadata": {},
   "outputs": [],
   "source": []
  },
  {
   "cell_type": "code",
   "execution_count": null,
   "id": "10adb83b-06e5-4db1-889d-b75fc8195311",
   "metadata": {},
   "outputs": [],
   "source": []
  },
  {
   "cell_type": "code",
   "execution_count": null,
   "id": "69b09222-2d01-41b4-a538-08c56b17b80c",
   "metadata": {},
   "outputs": [],
   "source": []
  },
  {
   "cell_type": "code",
   "execution_count": null,
   "id": "a5ded0ea-3981-424b-9c01-74c987e93267",
   "metadata": {},
   "outputs": [],
   "source": []
  },
  {
   "cell_type": "code",
   "execution_count": null,
   "id": "75f9a465-aadf-4199-bc03-023755f891ea",
   "metadata": {},
   "outputs": [],
   "source": []
  },
  {
   "cell_type": "code",
   "execution_count": null,
   "id": "de65ea16-664c-4009-8e5d-f2b152c1c3f0",
   "metadata": {},
   "outputs": [],
   "source": []
  },
  {
   "cell_type": "code",
   "execution_count": null,
   "id": "10ffd58f-1ca0-447e-81f3-e3a0a01a37ef",
   "metadata": {},
   "outputs": [],
   "source": []
  },
  {
   "cell_type": "code",
   "execution_count": null,
   "id": "9b73aa21-c879-47d5-ae6c-8833df1733fe",
   "metadata": {},
   "outputs": [],
   "source": []
  },
  {
   "cell_type": "code",
   "execution_count": null,
   "id": "d5084514-0652-469e-8e44-8cf9551c4ef6",
   "metadata": {},
   "outputs": [],
   "source": []
  },
  {
   "cell_type": "code",
   "execution_count": null,
   "id": "08c0c671-fcc2-4d35-af25-edd0a6b60c96",
   "metadata": {},
   "outputs": [],
   "source": []
  },
  {
   "cell_type": "code",
   "execution_count": null,
   "id": "41e6b951-ade9-4fcb-91cb-25139453ee0b",
   "metadata": {},
   "outputs": [],
   "source": []
  },
  {
   "cell_type": "code",
   "execution_count": null,
   "id": "998d8b2f-b41c-4cf8-be19-adbfe4b01ab4",
   "metadata": {},
   "outputs": [],
   "source": []
  },
  {
   "cell_type": "code",
   "execution_count": null,
   "id": "80454cb9-0c45-4205-aab0-8ea18a13068a",
   "metadata": {},
   "outputs": [],
   "source": []
  },
  {
   "cell_type": "code",
   "execution_count": null,
   "id": "7efe2297-69fc-4810-a44b-45a410d0525f",
   "metadata": {},
   "outputs": [],
   "source": []
  },
  {
   "cell_type": "code",
   "execution_count": null,
   "id": "6ddcc845-d381-4ecb-9c56-88cc1c8bcbb4",
   "metadata": {},
   "outputs": [],
   "source": []
  },
  {
   "cell_type": "code",
   "execution_count": null,
   "id": "0dc6c2ab-9247-48e5-ab2f-b1aaa0360c2a",
   "metadata": {},
   "outputs": [],
   "source": []
  },
  {
   "cell_type": "code",
   "execution_count": null,
   "id": "9ddd92bb-69c5-48cf-8412-452ce86a39bc",
   "metadata": {},
   "outputs": [],
   "source": []
  }
 ],
 "metadata": {
  "kernelspec": {
   "display_name": "Python 3 (ipykernel)",
   "language": "python",
   "name": "python3"
  },
  "language_info": {
   "codemirror_mode": {
    "name": "ipython",
    "version": 3
   },
   "file_extension": ".py",
   "mimetype": "text/x-python",
   "name": "python",
   "nbconvert_exporter": "python",
   "pygments_lexer": "ipython3",
   "version": "3.11.7"
  }
 },
 "nbformat": 4,
 "nbformat_minor": 5
}
